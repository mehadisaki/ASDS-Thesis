{
  "nbformat": 4,
  "nbformat_minor": 0,
  "metadata": {
    "colab": {
      "name": "ARIMA-MLP_hybrid_19052022.ipynb",
      "provenance": [],
      "collapsed_sections": [
        "APyWO6P5tzbU",
        "85gsEOhbu-Ub",
        "b-ekndA50qyd"
      ],
      "toc_visible": true,
      "authorship_tag": "ABX9TyMxir53Y6syqPbF0a2dctx+",
      "include_colab_link": true
    },
    "kernelspec": {
      "name": "python3",
      "display_name": "Python 3"
    },
    "language_info": {
      "name": "python"
    }
  },
  "cells": [
    {
      "cell_type": "markdown",
      "metadata": {
        "id": "view-in-github",
        "colab_type": "text"
      },
      "source": [
        "<a href=\"https://colab.research.google.com/github/mehadisaki/ASDS-Thesis/blob/main/ARIMA_MLP_hybrid_19052022.ipynb\" target=\"_parent\"><img src=\"https://colab.research.google.com/assets/colab-badge.svg\" alt=\"Open In Colab\"/></a>"
      ]
    },
    {
      "cell_type": "markdown",
      "source": [
        "# library"
      ],
      "metadata": {
        "id": "MjpQaJ6U3oNm"
      }
    },
    {
      "cell_type": "code",
      "source": [
        "! pip install pmdarima"
      ],
      "metadata": {
        "colab": {
          "base_uri": "https://localhost:8080/"
        },
        "id": "taOQrq6BvC8i",
        "outputId": "930150ef-154c-4b50-8b49-55c3cea9eaf6"
      },
      "execution_count": 2,
      "outputs": [
        {
          "output_type": "stream",
          "name": "stdout",
          "text": [
            "Collecting pmdarima\n",
            "  Downloading pmdarima-1.8.5-cp37-cp37m-manylinux_2_17_x86_64.manylinux2014_x86_64.manylinux_2_24_x86_64.whl (1.4 MB)\n",
            "\u001b[?25l\r\u001b[K     |▎                               | 10 kB 1.9 MB/s eta 0:00:01\r\u001b[K     |▌                               | 20 kB 3.7 MB/s eta 0:00:01\r\u001b[K     |▊                               | 30 kB 5.2 MB/s eta 0:00:01\r\u001b[K     |█                               | 40 kB 3.4 MB/s eta 0:00:01\r\u001b[K     |█▏                              | 51 kB 4.1 MB/s eta 0:00:01\r\u001b[K     |█▍                              | 61 kB 4.9 MB/s eta 0:00:01\r\u001b[K     |█▋                              | 71 kB 4.5 MB/s eta 0:00:01\r\u001b[K     |██                              | 81 kB 4.4 MB/s eta 0:00:01\r\u001b[K     |██▏                             | 92 kB 4.9 MB/s eta 0:00:01\r\u001b[K     |██▍                             | 102 kB 5.0 MB/s eta 0:00:01\r\u001b[K     |██▋                             | 112 kB 5.0 MB/s eta 0:00:01\r\u001b[K     |██▉                             | 122 kB 5.0 MB/s eta 0:00:01\r\u001b[K     |███                             | 133 kB 5.0 MB/s eta 0:00:01\r\u001b[K     |███▎                            | 143 kB 5.0 MB/s eta 0:00:01\r\u001b[K     |███▌                            | 153 kB 5.0 MB/s eta 0:00:01\r\u001b[K     |███▉                            | 163 kB 5.0 MB/s eta 0:00:01\r\u001b[K     |████                            | 174 kB 5.0 MB/s eta 0:00:01\r\u001b[K     |████▎                           | 184 kB 5.0 MB/s eta 0:00:01\r\u001b[K     |████▌                           | 194 kB 5.0 MB/s eta 0:00:01\r\u001b[K     |████▊                           | 204 kB 5.0 MB/s eta 0:00:01\r\u001b[K     |█████                           | 215 kB 5.0 MB/s eta 0:00:01\r\u001b[K     |█████▏                          | 225 kB 5.0 MB/s eta 0:00:01\r\u001b[K     |█████▍                          | 235 kB 5.0 MB/s eta 0:00:01\r\u001b[K     |█████▊                          | 245 kB 5.0 MB/s eta 0:00:01\r\u001b[K     |██████                          | 256 kB 5.0 MB/s eta 0:00:01\r\u001b[K     |██████▏                         | 266 kB 5.0 MB/s eta 0:00:01\r\u001b[K     |██████▍                         | 276 kB 5.0 MB/s eta 0:00:01\r\u001b[K     |██████▋                         | 286 kB 5.0 MB/s eta 0:00:01\r\u001b[K     |██████▉                         | 296 kB 5.0 MB/s eta 0:00:01\r\u001b[K     |███████                         | 307 kB 5.0 MB/s eta 0:00:01\r\u001b[K     |███████▎                        | 317 kB 5.0 MB/s eta 0:00:01\r\u001b[K     |███████▋                        | 327 kB 5.0 MB/s eta 0:00:01\r\u001b[K     |███████▉                        | 337 kB 5.0 MB/s eta 0:00:01\r\u001b[K     |████████                        | 348 kB 5.0 MB/s eta 0:00:01\r\u001b[K     |████████▎                       | 358 kB 5.0 MB/s eta 0:00:01\r\u001b[K     |████████▌                       | 368 kB 5.0 MB/s eta 0:00:01\r\u001b[K     |████████▊                       | 378 kB 5.0 MB/s eta 0:00:01\r\u001b[K     |█████████                       | 389 kB 5.0 MB/s eta 0:00:01\r\u001b[K     |█████████▎                      | 399 kB 5.0 MB/s eta 0:00:01\r\u001b[K     |█████████▌                      | 409 kB 5.0 MB/s eta 0:00:01\r\u001b[K     |█████████▊                      | 419 kB 5.0 MB/s eta 0:00:01\r\u001b[K     |██████████                      | 430 kB 5.0 MB/s eta 0:00:01\r\u001b[K     |██████████▏                     | 440 kB 5.0 MB/s eta 0:00:01\r\u001b[K     |██████████▍                     | 450 kB 5.0 MB/s eta 0:00:01\r\u001b[K     |██████████▋                     | 460 kB 5.0 MB/s eta 0:00:01\r\u001b[K     |██████████▉                     | 471 kB 5.0 MB/s eta 0:00:01\r\u001b[K     |███████████▏                    | 481 kB 5.0 MB/s eta 0:00:01\r\u001b[K     |███████████▍                    | 491 kB 5.0 MB/s eta 0:00:01\r\u001b[K     |███████████▋                    | 501 kB 5.0 MB/s eta 0:00:01\r\u001b[K     |███████████▉                    | 512 kB 5.0 MB/s eta 0:00:01\r\u001b[K     |████████████                    | 522 kB 5.0 MB/s eta 0:00:01\r\u001b[K     |████████████▎                   | 532 kB 5.0 MB/s eta 0:00:01\r\u001b[K     |████████████▌                   | 542 kB 5.0 MB/s eta 0:00:01\r\u001b[K     |████████████▊                   | 552 kB 5.0 MB/s eta 0:00:01\r\u001b[K     |█████████████                   | 563 kB 5.0 MB/s eta 0:00:01\r\u001b[K     |█████████████▎                  | 573 kB 5.0 MB/s eta 0:00:01\r\u001b[K     |█████████████▌                  | 583 kB 5.0 MB/s eta 0:00:01\r\u001b[K     |█████████████▊                  | 593 kB 5.0 MB/s eta 0:00:01\r\u001b[K     |██████████████                  | 604 kB 5.0 MB/s eta 0:00:01\r\u001b[K     |██████████████▏                 | 614 kB 5.0 MB/s eta 0:00:01\r\u001b[K     |██████████████▍                 | 624 kB 5.0 MB/s eta 0:00:01\r\u001b[K     |██████████████▋                 | 634 kB 5.0 MB/s eta 0:00:01\r\u001b[K     |███████████████                 | 645 kB 5.0 MB/s eta 0:00:01\r\u001b[K     |███████████████▏                | 655 kB 5.0 MB/s eta 0:00:01\r\u001b[K     |███████████████▍                | 665 kB 5.0 MB/s eta 0:00:01\r\u001b[K     |███████████████▋                | 675 kB 5.0 MB/s eta 0:00:01\r\u001b[K     |███████████████▉                | 686 kB 5.0 MB/s eta 0:00:01\r\u001b[K     |████████████████                | 696 kB 5.0 MB/s eta 0:00:01\r\u001b[K     |████████████████▎               | 706 kB 5.0 MB/s eta 0:00:01\r\u001b[K     |████████████████▋               | 716 kB 5.0 MB/s eta 0:00:01\r\u001b[K     |████████████████▉               | 727 kB 5.0 MB/s eta 0:00:01\r\u001b[K     |█████████████████               | 737 kB 5.0 MB/s eta 0:00:01\r\u001b[K     |█████████████████▎              | 747 kB 5.0 MB/s eta 0:00:01\r\u001b[K     |█████████████████▌              | 757 kB 5.0 MB/s eta 0:00:01\r\u001b[K     |█████████████████▊              | 768 kB 5.0 MB/s eta 0:00:01\r\u001b[K     |██████████████████              | 778 kB 5.0 MB/s eta 0:00:01\r\u001b[K     |██████████████████▏             | 788 kB 5.0 MB/s eta 0:00:01\r\u001b[K     |██████████████████▌             | 798 kB 5.0 MB/s eta 0:00:01\r\u001b[K     |██████████████████▊             | 808 kB 5.0 MB/s eta 0:00:01\r\u001b[K     |███████████████████             | 819 kB 5.0 MB/s eta 0:00:01\r\u001b[K     |███████████████████▏            | 829 kB 5.0 MB/s eta 0:00:01\r\u001b[K     |███████████████████▍            | 839 kB 5.0 MB/s eta 0:00:01\r\u001b[K     |███████████████████▋            | 849 kB 5.0 MB/s eta 0:00:01\r\u001b[K     |███████████████████▉            | 860 kB 5.0 MB/s eta 0:00:01\r\u001b[K     |████████████████████            | 870 kB 5.0 MB/s eta 0:00:01\r\u001b[K     |████████████████████▍           | 880 kB 5.0 MB/s eta 0:00:01\r\u001b[K     |████████████████████▋           | 890 kB 5.0 MB/s eta 0:00:01\r\u001b[K     |████████████████████▉           | 901 kB 5.0 MB/s eta 0:00:01\r\u001b[K     |█████████████████████           | 911 kB 5.0 MB/s eta 0:00:01\r\u001b[K     |█████████████████████▎          | 921 kB 5.0 MB/s eta 0:00:01\r\u001b[K     |█████████████████████▌          | 931 kB 5.0 MB/s eta 0:00:01\r\u001b[K     |█████████████████████▊          | 942 kB 5.0 MB/s eta 0:00:01\r\u001b[K     |██████████████████████          | 952 kB 5.0 MB/s eta 0:00:01\r\u001b[K     |██████████████████████▎         | 962 kB 5.0 MB/s eta 0:00:01\r\u001b[K     |██████████████████████▌         | 972 kB 5.0 MB/s eta 0:00:01\r\u001b[K     |██████████████████████▊         | 983 kB 5.0 MB/s eta 0:00:01\r\u001b[K     |███████████████████████         | 993 kB 5.0 MB/s eta 0:00:01\r\u001b[K     |███████████████████████▏        | 1.0 MB 5.0 MB/s eta 0:00:01\r\u001b[K     |███████████████████████▍        | 1.0 MB 5.0 MB/s eta 0:00:01\r\u001b[K     |███████████████████████▋        | 1.0 MB 5.0 MB/s eta 0:00:01\r\u001b[K     |████████████████████████        | 1.0 MB 5.0 MB/s eta 0:00:01\r\u001b[K     |████████████████████████▏       | 1.0 MB 5.0 MB/s eta 0:00:01\r\u001b[K     |████████████████████████▍       | 1.1 MB 5.0 MB/s eta 0:00:01\r\u001b[K     |████████████████████████▋       | 1.1 MB 5.0 MB/s eta 0:00:01\r\u001b[K     |████████████████████████▉       | 1.1 MB 5.0 MB/s eta 0:00:01\r\u001b[K     |█████████████████████████       | 1.1 MB 5.0 MB/s eta 0:00:01\r\u001b[K     |█████████████████████████▎      | 1.1 MB 5.0 MB/s eta 0:00:01\r\u001b[K     |█████████████████████████▌      | 1.1 MB 5.0 MB/s eta 0:00:01\r\u001b[K     |█████████████████████████▉      | 1.1 MB 5.0 MB/s eta 0:00:01\r\u001b[K     |██████████████████████████      | 1.1 MB 5.0 MB/s eta 0:00:01\r\u001b[K     |██████████████████████████▎     | 1.1 MB 5.0 MB/s eta 0:00:01\r\u001b[K     |██████████████████████████▌     | 1.1 MB 5.0 MB/s eta 0:00:01\r\u001b[K     |██████████████████████████▊     | 1.2 MB 5.0 MB/s eta 0:00:01\r\u001b[K     |███████████████████████████     | 1.2 MB 5.0 MB/s eta 0:00:01\r\u001b[K     |███████████████████████████▏    | 1.2 MB 5.0 MB/s eta 0:00:01\r\u001b[K     |███████████████████████████▍    | 1.2 MB 5.0 MB/s eta 0:00:01\r\u001b[K     |███████████████████████████▊    | 1.2 MB 5.0 MB/s eta 0:00:01\r\u001b[K     |████████████████████████████    | 1.2 MB 5.0 MB/s eta 0:00:01\r\u001b[K     |████████████████████████████▏   | 1.2 MB 5.0 MB/s eta 0:00:01\r\u001b[K     |████████████████████████████▍   | 1.2 MB 5.0 MB/s eta 0:00:01\r\u001b[K     |████████████████████████████▋   | 1.2 MB 5.0 MB/s eta 0:00:01\r\u001b[K     |████████████████████████████▉   | 1.2 MB 5.0 MB/s eta 0:00:01\r\u001b[K     |█████████████████████████████   | 1.3 MB 5.0 MB/s eta 0:00:01\r\u001b[K     |█████████████████████████████▎  | 1.3 MB 5.0 MB/s eta 0:00:01\r\u001b[K     |█████████████████████████████▋  | 1.3 MB 5.0 MB/s eta 0:00:01\r\u001b[K     |█████████████████████████████▉  | 1.3 MB 5.0 MB/s eta 0:00:01\r\u001b[K     |██████████████████████████████  | 1.3 MB 5.0 MB/s eta 0:00:01\r\u001b[K     |██████████████████████████████▎ | 1.3 MB 5.0 MB/s eta 0:00:01\r\u001b[K     |██████████████████████████████▌ | 1.3 MB 5.0 MB/s eta 0:00:01\r\u001b[K     |██████████████████████████████▊ | 1.3 MB 5.0 MB/s eta 0:00:01\r\u001b[K     |███████████████████████████████ | 1.3 MB 5.0 MB/s eta 0:00:01\r\u001b[K     |███████████████████████████████▎| 1.4 MB 5.0 MB/s eta 0:00:01\r\u001b[K     |███████████████████████████████▌| 1.4 MB 5.0 MB/s eta 0:00:01\r\u001b[K     |███████████████████████████████▊| 1.4 MB 5.0 MB/s eta 0:00:01\r\u001b[K     |████████████████████████████████| 1.4 MB 5.0 MB/s eta 0:00:01\r\u001b[K     |████████████████████████████████| 1.4 MB 5.0 MB/s \n",
            "\u001b[?25hRequirement already satisfied: joblib>=0.11 in /usr/local/lib/python3.7/dist-packages (from pmdarima) (1.1.0)\n",
            "Collecting statsmodels!=0.12.0,>=0.11\n",
            "  Downloading statsmodels-0.13.2-cp37-cp37m-manylinux_2_17_x86_64.manylinux2014_x86_64.whl (9.8 MB)\n",
            "\u001b[K     |████████████████████████████████| 9.8 MB 40.7 MB/s \n",
            "\u001b[?25hRequirement already satisfied: urllib3 in /usr/local/lib/python3.7/dist-packages (from pmdarima) (1.24.3)\n",
            "Requirement already satisfied: Cython!=0.29.18,>=0.29 in /usr/local/lib/python3.7/dist-packages (from pmdarima) (0.29.29)\n",
            "Requirement already satisfied: setuptools!=50.0.0,>=38.6.0 in /usr/local/lib/python3.7/dist-packages (from pmdarima) (57.4.0)\n",
            "Requirement already satisfied: numpy>=1.19.3 in /usr/local/lib/python3.7/dist-packages (from pmdarima) (1.21.6)\n",
            "Requirement already satisfied: scikit-learn>=0.22 in /usr/local/lib/python3.7/dist-packages (from pmdarima) (1.0.2)\n",
            "Requirement already satisfied: pandas>=0.19 in /usr/local/lib/python3.7/dist-packages (from pmdarima) (1.3.5)\n",
            "Requirement already satisfied: scipy>=1.3.2 in /usr/local/lib/python3.7/dist-packages (from pmdarima) (1.4.1)\n",
            "Requirement already satisfied: python-dateutil>=2.7.3 in /usr/local/lib/python3.7/dist-packages (from pandas>=0.19->pmdarima) (2.8.2)\n",
            "Requirement already satisfied: pytz>=2017.3 in /usr/local/lib/python3.7/dist-packages (from pandas>=0.19->pmdarima) (2022.1)\n",
            "Requirement already satisfied: six>=1.5 in /usr/local/lib/python3.7/dist-packages (from python-dateutil>=2.7.3->pandas>=0.19->pmdarima) (1.15.0)\n",
            "Requirement already satisfied: threadpoolctl>=2.0.0 in /usr/local/lib/python3.7/dist-packages (from scikit-learn>=0.22->pmdarima) (3.1.0)\n",
            "Requirement already satisfied: packaging>=21.3 in /usr/local/lib/python3.7/dist-packages (from statsmodels!=0.12.0,>=0.11->pmdarima) (21.3)\n",
            "Requirement already satisfied: patsy>=0.5.2 in /usr/local/lib/python3.7/dist-packages (from statsmodels!=0.12.0,>=0.11->pmdarima) (0.5.2)\n",
            "Requirement already satisfied: pyparsing!=3.0.5,>=2.0.2 in /usr/local/lib/python3.7/dist-packages (from packaging>=21.3->statsmodels!=0.12.0,>=0.11->pmdarima) (3.0.9)\n",
            "Installing collected packages: statsmodels, pmdarima\n",
            "  Attempting uninstall: statsmodels\n",
            "    Found existing installation: statsmodels 0.10.2\n",
            "    Uninstalling statsmodels-0.10.2:\n",
            "      Successfully uninstalled statsmodels-0.10.2\n",
            "Successfully installed pmdarima-1.8.5 statsmodels-0.13.2\n"
          ]
        }
      ]
    },
    {
      "cell_type": "code",
      "source": [
        "from pathlib import Path\n",
        "import pandas as pd\n",
        "from scipy import stats\n",
        "import seaborn as sns\n",
        "from pmdarima.arima import auto_arima\n",
        "from sklearn.model_selection import train_test_split\n",
        "from statsmodels.tsa.arima_model import ARIMA\n",
        "from sklearn.preprocessing import MinMaxScaler\n",
        "import matplotlib.pyplot as plt\n",
        "#from keras.utils import plot_model\n",
        "from keras.utils.vis_utils import plot_model\n",
        "from keras.callbacks import EarlyStopping\n",
        "from tensorflow.keras.optimizers import Adam\n"
      ],
      "metadata": {
        "id": "0OcMJZCEyHJq"
      },
      "execution_count": 3,
      "outputs": []
    },
    {
      "cell_type": "markdown",
      "source": [
        "# Link to drive"
      ],
      "metadata": {
        "id": "NIVDV7w4q__t"
      }
    },
    {
      "cell_type": "code",
      "source": [
        "from google.colab import drive\n",
        "drive.mount('/content/gdrive')\n",
        "images_dir = '/content/gdrive/My Drive/TS - forcast project/new_image'\n"
      ],
      "metadata": {
        "id": "mGXI4C8YjbYF",
        "colab": {
          "base_uri": "https://localhost:8080/"
        },
        "outputId": "48d6fd79-30b2-4bef-fa04-64c3b68c7c49"
      },
      "execution_count": 110,
      "outputs": [
        {
          "output_type": "stream",
          "name": "stdout",
          "text": [
            "Drive already mounted at /content/gdrive; to attempt to forcibly remount, call drive.mount(\"/content/gdrive\", force_remount=True).\n"
          ]
        }
      ]
    },
    {
      "cell_type": "markdown",
      "source": [
        "# Function"
      ],
      "metadata": {
        "id": "AW_GUoYyvjFB"
      }
    },
    {
      "cell_type": "markdown",
      "source": [
        "##MLP"
      ],
      "metadata": {
        "id": "3vLhB-fYuBuh"
      }
    },
    {
      "cell_type": "code",
      "execution_count": 80,
      "metadata": {
        "id": "Ltp2wEzHq3L_"
      },
      "outputs": [],
      "source": [
        "import numpy as np\n",
        "from statsmodels.tsa import stattools\n",
        "import matplotlib.pyplot as plt\n",
        "import pandas as pd\n",
        "from keras.models import Sequential\n",
        "from keras.layers import Dense\n",
        "from keras.wrappers.scikit_learn import KerasRegressor\n",
        "from sklearn.model_selection import GridSearchCV\n",
        "from tensorflow import keras\n",
        "#from keras.optimizers import SGD\n",
        "from keras.optimizers import gradient_descent_v2\n",
        "from sklearn.model_selection import TimeSeriesSplit\n",
        "from keras.constraints import maxnorm\n",
        "from keras.layers import Dropout\n",
        "from tensorflow.keras.optimizers import Adam\n",
        "from tensorflow.keras.layers import Flatten\n",
        "import tensorflow as tf\n",
        "#from Models.Misc import *\n",
        "from sklearn.model_selection import RandomizedSearchCV\n",
        "import keras.backend as K\n",
        "\n",
        "\n",
        "SGD = gradient_descent_v2\n",
        "\n",
        "\n",
        "tf.random.set_seed(123)\n",
        "\n",
        "\n",
        "\n",
        "\n",
        "def create_regressor_attributes(df, attribute, list_of_prev_t_instants) :\n",
        "    \n",
        "    \"\"\"\n",
        "    Function to convert a time series into a supervised learning problem.\n",
        "    ...\n",
        "\n",
        "    Attributes\n",
        "    ----------\n",
        "    df : Dataframe\n",
        "        Dataframe of stock data.\n",
        "    attribute : list\n",
        "        List of columns used for creating the supervised learning problem. \n",
        "    list_of_prev_t_instants : list\n",
        "    \n",
        "    df : list\n",
        "    \n",
        "    \"\"\"\n",
        "        \n",
        "    list_of_prev_t_instants.sort()\n",
        "    start = list_of_prev_t_instants[-1] \n",
        "    end = len(df)\n",
        "    df['datetime'] = df.index\n",
        "    df.reset_index(drop=True)\n",
        "\n",
        "    df_copy = df[start:end]\n",
        "    df_copy.reset_index(inplace=True, drop=True)\n",
        "\n",
        "    for attribute in attribute :\n",
        "            foobar = pd.DataFrame()\n",
        "\n",
        "            for prev_t in list_of_prev_t_instants :\n",
        "                new_col = pd.DataFrame(df[attribute].iloc[(start - prev_t) : (end - prev_t)])\n",
        "                new_col.reset_index(drop=True, inplace=True)\n",
        "                new_col.rename(columns={attribute : '{}_(t-{})'.format(attribute, prev_t)}, inplace=True)\n",
        "                foobar = pd.concat([foobar, new_col], sort=False, axis=1)\n",
        "\n",
        "            df_copy = pd.concat([df_copy, foobar], sort=False, axis=1)\n",
        "            \n",
        "    df_copy.set_index(['datetime'], drop=True, inplace=True)\n",
        "    return df_copy\n",
        "\n",
        "\n",
        "\n",
        "def find_input_dim(data):\n",
        "    \n",
        "    \"\"\"\n",
        "    Function to find the number of terms above 0.9 autocorrelation in a data set.\n",
        "    ...\n",
        "\n",
        "    Attributes\n",
        "    ----------\n",
        "    data : list, Dataframe\n",
        "    \n",
        "    \"\"\"\n",
        "    \n",
        "    acf_djia, confint_djia, qstat_djia, pvalues_djia = stattools.acf(data,\n",
        "                                                                 adjusted=True,\n",
        "                                                                 nlags=500,\n",
        "                                                                 qstat=True,\n",
        "                                                                 fft=True,\n",
        "                                                                 alpha = 0.05)\n",
        "    \n",
        "    plt.figure(figsize=(7, 5))\n",
        "    plt.plot(pd.Series(acf_djia), color='r', linewidth=2)\n",
        "    plt.title('Autocorrelation of Delivery Qty', weight='bold', fontsize=16)\n",
        "    plt.xlabel('Lag', weight='bold', fontsize=14)\n",
        "    plt.ylabel('Value', weight='bold', fontsize=14)\n",
        "    plt.xticks(weight='bold', fontsize=12, rotation=45)\n",
        "    plt.yticks(weight='bold', fontsize=12)\n",
        "    plt.grid(True)\n",
        "    \n",
        "    input_dim = sum([1 for x in acf_djia if x>0.8])\n",
        "    print(\"Number of values above 0.8 autocorrelation is: \", input_dim)\n",
        "    return input_dim\n",
        "\n",
        "\n",
        "\n",
        "def build_baseline_model(num_of_input):\n",
        "    \n",
        "    \"\"\"\n",
        "    Function to build the baseline model.\n",
        "    ...\n",
        "\n",
        "    Attributes\n",
        "    ----------\n",
        "    num_of_input : int\n",
        "        Dimension of the input layer.\n",
        "    \n",
        "    \"\"\"\n",
        "    \n",
        "    # create model\n",
        "    model = Sequential()\n",
        "    model.add(Dense(2, input_dim=num_of_input, activation='relu'))\n",
        "    model.add(Dense(1, activation='relu'))\n",
        "    # Compile model\n",
        "    model.compile(loss='mean_squared_error', optimizer='adam')\n",
        "    return model\n",
        "\n",
        "\n",
        "def get_mlp_model(input_dim, hidden_layer_one=50, hidden_layer_two=25,\n",
        "    dropout=0.2, learn_rate=0.01):\n",
        "    \n",
        "    \"\"\"\n",
        "    Function to build the MLP model. The parameters of the model will be optimised by the optimize_parameters() function.\n",
        "    ...\n",
        "\n",
        "    Attributes\n",
        "    ----------\n",
        "    input_dim: int\n",
        "        Dimension of the input layer.\n",
        "    hidden_layer_one: int\n",
        "        Size of the first hidden layer. Default value = 50.\n",
        "    hidden_layer_two: int\n",
        "        Size of the second hidden layer. Default value = 25.\n",
        "    dropout: float\n",
        "        Rate of dropout of the dropout layer. Default value = 0.2.\n",
        "    learn_rate: float\n",
        "        Amount of learning rate. Default value = 0.01.\n",
        "        \n",
        "    \"\"\"\n",
        "    \n",
        "    # initialize a sequential model and add layer to flatten the\n",
        "    # input data\n",
        "    model = Sequential()\n",
        "    #model.add(Flatten())\n",
        "    \n",
        "    model.add(Dense(hidden_layer_one, activation=\"relu\",\n",
        "        input_dim=input_dim))\n",
        "    model.add(Dropout(dropout))\n",
        "    model.add(Dense(hidden_layer_two, activation=\"relu\"))\n",
        "    model.add(Dropout(dropout))\n",
        "    model.add(Dense(1, activation='linear'))\n",
        "    # compile the model\n",
        "    model.compile(\n",
        "        optimizer=Adam(learning_rate=learn_rate),\n",
        "        loss=\"mean_squared_error\",\n",
        "        metrics=[\"mse\", \"mae\"])\n",
        "    # return compiled model\n",
        "    return model\n",
        "    \n",
        "\n",
        "\n",
        "\n",
        "    \n",
        "def baseline_test(n_iter, input_dim, X_train, y_train, X_valid, y_valid, X_test, y_test, scaler):\n",
        "    \n",
        "    \n",
        "    \"\"\"\n",
        "    Function to fit the baseline model and make prediction for n_iter amount of times.\n",
        "    ...\n",
        "\n",
        "    Attributes\n",
        "    ----------\n",
        "    n_iter: int\n",
        "        Number of times the baseline test is ran.\n",
        "    input_dim: int\n",
        "        Dimension of the input layer.\n",
        "    X_train: list\n",
        "    y_train: list\n",
        "    X_valid: list\n",
        "    y_valid: list\n",
        "    X_test: list\n",
        "    y_test: list\n",
        "    scaler: Scaler object\n",
        "    \n",
        "    \"\"\"\n",
        "        \n",
        "    baseline_MSE=[]\n",
        "    baseline_MAE=[]\n",
        "        \n",
        "    \n",
        "    for i in range(n_iter):\n",
        "        model = build_baseline_model(input_dim)\n",
        "        # train the network (i.e., no hyperparameter tuning)\n",
        "        print(\"[INFO] training model...\")\n",
        "        H = model.fit(x=X_train, y=y_train,\n",
        "            validation_data=(X_valid, y_valid),\n",
        "            batch_size=128,\n",
        "            epochs=100, verbose=0, shuffle=False)\n",
        "            # mke predictions on the test set and evaluate it\n",
        "        \n",
        "        \n",
        "        baseline_pred = model.predict(X_test)\n",
        "        baseline_pred_rescaled = scaler.inverse_transform(baseline_pred)\n",
        "        \n",
        "        \n",
        "        #plot_comparison_graph(y_test, baseline_pred_rescaled)\n",
        "        #plot_loss(H)\n",
        "        \n",
        "        measures = calculate_error_measures(y_test, baseline_pred_rescaled)\n",
        "        baseline_MSE.append(measures[0])\n",
        "        baseline_MAE.append(measures[1])\n",
        "        \n",
        "        K.clear_session()\n",
        "    \n",
        "    \n",
        "\n",
        "    return sum(baseline_MSE)/n_iter, sum(baseline_MAE)/n_iter\n",
        "\n",
        "\n",
        "\n",
        "\n",
        "def optimize_parameters(model, grid, X_train, y_train):\n",
        "    \n",
        "    \"\"\"\n",
        "    Function to optimise the MLP hyperparameters using RandomizedSearchCV. \n",
        "    ...\n",
        "\n",
        "    Attributes\n",
        "    ----------\n",
        "    model: KerasRegressor object\n",
        "        The model to be optimised. Wrapped in a KerasRegressor object for compatibility with the sklearn library.\n",
        "    grid: dictionary\n",
        "        Dictionary of list with the hyperparameter values used for optimisation.\n",
        "    X_train: list\n",
        "    y_train: list\n",
        "        \n",
        "    \"\"\"\n",
        "    \n",
        "    tss = TimeSeriesSplit(n_splits=10)\n",
        "    \n",
        "    \n",
        "    print(\"[INFO] performing random search...\")\n",
        "    searcher = RandomizedSearchCV(estimator=model, n_jobs=-1, n_iter=10, cv=tss,\n",
        "        param_distributions=grid, scoring=('neg_mean_squared_error','neg_mean_absolute_error'), refit='neg_mean_squared_error')\n",
        "    search_results = searcher.fit(X_train, y_train)\n",
        "    best_params = search_results.best_params_\n",
        "    print(\"Best parameters are: {}\".format(best_params))\n",
        "    \n",
        "    return best_params\n",
        "\n",
        "\n",
        "\n",
        "\n",
        "\n"
      ]
    },
    {
      "cell_type": "markdown",
      "source": [
        ""
      ],
      "metadata": {
        "id": "IbGsnEuHvh44"
      }
    },
    {
      "cell_type": "markdown",
      "source": [
        "##Hybrid"
      ],
      "metadata": {
        "id": "APyWO6P5tzbU"
      }
    },
    {
      "cell_type": "code",
      "source": [
        "#from Models.Misc import *\n",
        "from sklearn.metrics import mean_absolute_error\n",
        "from keras.models import Sequential\n",
        "from keras.layers import Dense\n",
        "from keras.layers import Dropout\n",
        "from tensorflow.keras.optimizers import Adam\n",
        "\n",
        "\n",
        "\n",
        "def forecast_HMLP_residuals(input_dim_hybrid, X_train, y_train, X_valid, y_valid, X_test):\n",
        "    \n",
        "    \"\"\"\n",
        "    Function to build the HMLP and forecast the residuals.\n",
        "    ...\n",
        "\n",
        "    Attributes\n",
        "    ----------\n",
        "    input_dim_hybrid: int\n",
        "        Dimension of the input layer for the HMLP.\n",
        "    X_train: list\n",
        "    y_train: list\n",
        "    X_valid: list\n",
        "    y_valid: list\n",
        "    X_test: list\n",
        "    \n",
        "    \"\"\"\n",
        "    #\n",
        "    ## define model\n",
        "    model = Sequential()\n",
        "    model.add(Dense(input_dim_hybrid, activation='tanh', input_dim=input_dim_hybrid))\n",
        "    model.add(Dense(input_dim_hybrid/2, activation='tanh'))\n",
        "    model.add(Dropout(0.5))\n",
        "    model.add(Dense(1, activation='linear'))\n",
        "    model.compile(\n",
        "            optimizer=Adam(learning_rate=0.01),\n",
        "            loss=\"mean_squared_error\",\n",
        "            metrics=[\"mse\", \"mae\"])\n",
        "    \n",
        "    model.summary()\n",
        "    \n",
        "    history_hybrid = model.fit(X_train, y_train,\n",
        "                               validation_data=(X_valid, y_valid),\n",
        "                               batch_size=32,\n",
        "                               epochs=100, verbose=False)\n",
        "    \n",
        "    pred_HMLP = model.predict(X_test)\n",
        "    \n",
        "    return pred_HMLP, history_hybrid\n",
        "\n",
        "\n",
        "def zero_centre(prediction):\n",
        "    \n",
        "    \"\"\"\n",
        "    Function to zero center the hybrid prediction.\n",
        "    ...\n",
        "\n",
        "    Attributes\n",
        "    ----------\n",
        "    prediction : list\n",
        "    \n",
        "    \"\"\"\n",
        "    \n",
        "    if prediction[0] < 0:\n",
        "        prediction = [abs(prediction[0])+i for i in prediction]\n",
        "    if prediction[0] > 0:\n",
        "        prediction = [i-prediction[0] for i in prediction]\n",
        "    else:\n",
        "        return prediction\n",
        "    return prediction\n",
        "\n"
      ],
      "metadata": {
        "id": "O549kDREsSMm"
      },
      "execution_count": 6,
      "outputs": []
    },
    {
      "cell_type": "markdown",
      "source": [
        "##Misc"
      ],
      "metadata": {
        "id": "r1zHZS3dt3aS"
      }
    },
    {
      "cell_type": "code",
      "source": [
        "import numpy as np\n",
        "from sklearn.metrics import mean_squared_error, mean_absolute_error, mean_absolute_percentage_error\n",
        "from sklearn.preprocessing import MinMaxScaler\n",
        "import pandas as pd\n",
        "import matplotlib.pyplot as plt\n",
        "from sklearn.metrics import r2_score\n",
        "import time\n",
        "\n",
        "\n",
        "\n",
        "def calculate_error_measures(X, Y):\n",
        "    \n",
        "    \"\"\"\n",
        "    Function to calculate the mean squared error, mean absolute error and the coefficient of determination (r2) between two lists.\n",
        "    ...\n",
        "\n",
        "    Attributes\n",
        "    ----------\n",
        "    X : list\n",
        "    \n",
        "    Y : list\n",
        "    \n",
        "    \"\"\"\n",
        "    \n",
        "        \n",
        "    MSE = mean_squared_error(X, Y)\n",
        "    print('Mean Squared Error(MSE): ', MSE)\n",
        "    \n",
        "    MAE = mean_absolute_error(X, Y)\n",
        "    print('Mean Absolute Error(MAE): ', MAE)\n",
        "    RMSE =mean_squared_error(X, Y,squared=False)\n",
        "    print('Root Mean Squared Error(RMSE):', RMSE )\n",
        "    MAPE = mean_absolute_percentage_error(X, Y)\n",
        "    print(' Mean absolute percentage Error(MAPE):', MAPE )\n",
        "    #squared bool, default=True If True returns MSE value, if False returns RMSE value.\n",
        "    error_measures = [MSE, MAE,RMSE, MAPE]\n",
        "    return error_measures\n",
        "\n",
        "\n",
        "\n",
        "def create_train_valid_test(data, test_set_size, valid_set_size):\n",
        "    \n",
        "    \"\"\"\n",
        "    Function to split a dataset into training, testing and validation sets.\n",
        "    ...\n",
        "\n",
        "    Attributes\n",
        "    ----------\n",
        "    data : list\n",
        "        \n",
        "    test_set_size : int\n",
        "        Int <= 1 for size of test set.\n",
        "        \n",
        "    valid_set_size : int\n",
        "        Int <= 1 for size of validation set.   \n",
        "    \"\"\"\n",
        "    \n",
        "    \n",
        "    df_copy = data.reset_index(drop=True)\n",
        "    \n",
        "    df_test = df_copy.iloc[ int((len(df_copy)*(1-test_set_size))) : ]\n",
        "    df_train_plus_valid = df_copy.iloc[ : int((len(df_copy)*(1-test_set_size))) ]\n",
        "    \n",
        "    df_train = df_train_plus_valid.iloc[ : int((len(df_train_plus_valid)*(1-valid_set_size))) ]\n",
        "    df_valid = df_train_plus_valid.iloc[ int((len(df_train_plus_valid)*(1-valid_set_size))) : ]\n",
        "    \n",
        "    X_train, y_train = df_train.iloc[:, 1:], df_train.iloc[:, 0]\n",
        "    X_valid, y_valid = df_valid.iloc[:, 1:], df_valid.iloc[:, 0]\n",
        "    X_test, y_test = df_test.iloc[:, 1:], df_test.iloc[:, 0]\n",
        "    \n",
        "    \n",
        "    \n",
        "    print('Shape of training inputs, training target:', X_train.shape, y_train.shape)\n",
        "    print('Shape of validation inputs, validation target:', X_valid.shape, y_valid.shape)\n",
        "    print('Shape of test inputs, test target:', X_test.shape, y_test.shape)\n",
        "    \n",
        "    return X_train, y_train, X_valid, y_valid, X_test, y_test\n",
        "\n",
        "\n",
        "def scale_data(X_train, y_train, X_valid, y_valid, X_test, y_test, scaler):\n",
        "    \n",
        "    \"\"\"\n",
        "    Function to transform features by scaling them into a range a given range. A range of 0-1 is used for this project.\n",
        "    ...\n",
        "\n",
        "    Attributes\n",
        "    ----------\n",
        "    X_train : list\n",
        "    \n",
        "    y_train : list\n",
        "    \n",
        "    X_valid : list\n",
        "    \n",
        "    y_valid : list\n",
        "        \n",
        "    X_test : list\n",
        "    \n",
        "    y_test : list\n",
        "    \n",
        "    scaler : MinMaxScaler\n",
        "    \"\"\"\n",
        "    \n",
        "    \n",
        "    X_train_scaled = scaler.fit_transform(np.array(X_train))\n",
        "    X_valid_scaled = scaler.fit_transform(np.array(X_valid))\n",
        "    X_test_scaled = scaler.fit_transform(np.array(X_test))\n",
        "    \n",
        "    y_train_scaled = scaler.fit_transform(np.array(y_train).reshape(-1,1))\n",
        "    y_valid_scaled = scaler.fit_transform(np.array(y_valid).reshape(-1,1))\n",
        "    y_test_scaled = scaler.fit_transform(np.array(y_test).reshape(-1,1))\n",
        "    \n",
        "    return X_train_scaled, y_train_scaled, X_valid_scaled, y_valid_scaled, X_test_scaled, y_test_scaled\n",
        "\n",
        "\n",
        "def plot_comparison_graph(actual, prediction,mn ):\n",
        "    \n",
        "    \"\"\"\n",
        "    Function to plot a graph comparing the actual values to predicted values.\n",
        "    ...\n",
        "\n",
        "    Attributes\n",
        "    ----------\n",
        "    actual : list\n",
        "    mn= model number\n",
        "    \n",
        "    prediction : list   \n",
        "    \"\"\"\n",
        "    timestamp = time.time()\n",
        "    \n",
        "    y_actual = pd.DataFrame(actual, columns=['Actual Delivery'])\n",
        "\n",
        "    y_hat = pd.DataFrame(prediction, columns=['Predicted Delivery'])\n",
        "    \n",
        "    \n",
        "    plt.figure(figsize=(11, 6))\n",
        "    plt.plot(y_actual, linestyle='solid', color='r')\n",
        "    plt.plot(y_hat, linestyle='dashed', color='b')\n",
        "    \n",
        "    plt.legend(['Actual','Predicted'], loc='best', prop={'size': 14})\n",
        "    plt.title('32\" TV delivery', weight='bold', fontsize=16)\n",
        "    plt.ylabel('Pcs', weight='bold', fontsize=14)\n",
        "    plt.xlabel('Test Set Month no.', weight='bold', fontsize=14)\n",
        "    plt.xticks(weight='bold', fontsize=12, rotation=45)\n",
        "    plt.yticks(weight='bold', fontsize=12)\n",
        "    plt.grid(True)\n",
        "    \n",
        "    \n",
        "    plt.show()\n",
        "    \n",
        "    \n",
        "def plot_loss(history):\n",
        "    \n",
        "    \"\"\"\n",
        "    Function to plot the training and validation loss of the MLP model.\n",
        "    ...\n",
        "\n",
        "    Attributes\n",
        "    ----------\n",
        "    history :  History object  \n",
        "    \"\"\"\n",
        "    \n",
        "    plt.figure(figsize=(11, 6))\n",
        "    history_dict=history.history\n",
        "    loss_values = history_dict['loss']\n",
        "    val_loss_values=history_dict['val_loss']\n",
        "    plt.plot(loss_values,'bo',label='Training loss')\n",
        "    plt.plot(val_loss_values,'ro',label='Validation loss')\n",
        "    plt.legend()\n",
        "    images_dir = '/content/gdrive/My Drive/TS - forcast project/new_image'\n",
        "    plt.savefig(\"history_loss-1.png\")\n",
        "    plt.savefig(f\"{images_dir}/history_loss-1.png\")\n",
        "    plt.show()\n",
        "    \n",
        "    \n",
        "def comparison_graph(actual, prediction ):\n",
        "    \n",
        "    \"\"\"\n",
        "    Function to plot a graph comparing the actual values to predicted values.\n",
        "    ...\n",
        "\n",
        "    Attributes\n",
        "    ----------\n",
        "    actual : list\n",
        "    mn= model number\n",
        "    \n",
        "    prediction : list   \n",
        "    \"\"\"\n",
        "    timestamp = time.time()\n",
        "    \n",
        "    y_actual = pd.DataFrame(actual, columns=['Actual Delivery'])\n",
        "\n",
        "    y_hat = pd.DataFrame(prediction, columns=['Predicted Delivery'])\n",
        "    \n",
        "    return y_actual, y_hat\n",
        "\n",
        "    \n",
        "\n",
        "def load_data(ETF):\n",
        "    \n",
        "    \"\"\"\n",
        "    Function to load the ETF data from a file, remove NaN values and set the Date column as index.\n",
        "    ...\n",
        "\n",
        "    Attributes\n",
        "    ----------\n",
        "    ETF : filepath\n",
        "    \"\"\"\n",
        "    \n",
        "    \n",
        "    data = pd.read_excel(ETF,parse_dates=[0], header=0)\n",
        "\n",
        "    data.dropna(subset = ['Month', 'Delivery'], inplace=True)\n",
        "    \n",
        "    data_close = pd.DataFrame(data['Delivery'])\n",
        "    data_close.index = pd.to_datetime(data['Month'])\n",
        "    \n",
        "    return data_close\n",
        "\n",
        "\n",
        "\n",
        "def equal_size(list1, list2):\n",
        "    \n",
        "    \"\"\"\n",
        "    Function to equalise the size of two lists.\n",
        "    ...\n",
        "\n",
        "    Attributes\n",
        "    ----------\n",
        "    list1: list\n",
        "    list2: list\n",
        "    \n",
        "    \"\"\"\n",
        "    \n",
        "    if len(list1) > len(list2):\n",
        "        s = len(list1)-len(list2)\n",
        "        list1 = list1[:-s]\n",
        "        return list1, list2\n",
        "    if len(list2) > len(list1):\n",
        "        s = len(list2)-len(list1)\n",
        "        list2 = list2[:-s]\n",
        "        return list1, list2\n",
        "    else:\n",
        "        return list1, list2\n",
        "        \n"
      ],
      "metadata": {
        "id": "Co1Totqdtn1T"
      },
      "execution_count": 132,
      "outputs": []
    },
    {
      "cell_type": "markdown",
      "source": [
        "## Box-cox Function"
      ],
      "metadata": {
        "id": "L5tIjPfM5-Nv"
      }
    },
    {
      "cell_type": "code",
      "source": [
        "# Box-Cox Transformation Function\n",
        "def run_box_cox(pd_dataframe):\n",
        "    \"\"\"\n",
        "    Perform Box-Cox Transformation on column 'price'\n",
        "    Save the resutls into a new column 'price_box'\n",
        "    Save lmbda into a new column 'lmbda'\n",
        "    \"\"\"\n",
        "    \n",
        "    sns.set(style=\"darkgrid\")\n",
        "    f, axes = plt.subplots(2, 2, figsize=(12, 10), sharex=False)   \n",
        "    \n",
        "    ax1 = axes[0, 0]    \n",
        "    prob = stats.probplot(pd_dataframe['Delivery'], dist=stats.norm, plot=ax1, fit=False)    \n",
        "    ax1.set_title('Probability Plot Before Transformation')\n",
        "        \n",
        "    ax2 = axes[0, 1]\n",
        "    # Perform Box-Cox Transformation\n",
        "    box_cox, lmbda = stats.boxcox(pd_dataframe['Delivery'])\n",
        "    # Record new column 'price_box' in pd\n",
        "    pd_dataframe['Delivery'] = pd.Series(box_cox, index=pd_dataframe.index)\n",
        "    # Record lmbda in pd\n",
        "    print(lmbda)\n",
        "    #pd_dataframe['lmbda'] = lmbda\n",
        "    prob = stats.probplot(box_cox, dist=stats.norm, plot=ax2, fit=False)\n",
        "    ax2.set_title('Probability Plot After Transformation')    \n",
        "    \n",
        "    ax3 = axes[1, 0]\n",
        "    sns.kdeplot(pd_dataframe['Delivery'], shade=True, ax=ax3, label='KDE')\n",
        "    ax3.set_title('KDE Plot Before Transformation')\n",
        "    \n",
        "    ax4 = axes[1, 1]\n",
        "    sns.kdeplot(box_cox, shade=True, ax=ax4, label='KDE after Transformation', color='r')\n",
        "    ax4.set_title('KDE Plot After Transformation')\n",
        "    \n",
        "    f.suptitle('32\"TV {} delivery after Box-Cox Transformation'.format(\"Monthly\"), fontsize=16)\n",
        "    f.subplots_adjust(top=0.91, hspace=0.3)\n",
        "\n",
        "    plt.savefig(\"boxcox.png\")\n",
        "    plt.savefig(f\"{images_dir}/boxcox.png\")\n",
        "    plt.show()\n",
        "    return lmbda"
      ],
      "metadata": {
        "id": "RFC__IkGwfQo"
      },
      "execution_count": 18,
      "outputs": []
    },
    {
      "cell_type": "markdown",
      "source": [
        "##ARIMA"
      ],
      "metadata": {
        "id": "85gsEOhbu-Ub"
      }
    },
    {
      "cell_type": "code",
      "source": [
        "from pmdarima.arima import ndiffs\n",
        "import statsmodels.tsa.arima.model as sm\n",
        "import matplotlib.pyplot as plt\n",
        "import pandas as pd\n",
        "#from statsmodels.tsa.arima import ARIMA\n",
        "from statsmodels.tsa.arima.model import ARIMA \n",
        "import time\n",
        "import warnings\n",
        "warnings.filterwarnings('ignore', 'statsmodels.tsa.arima_model.ARMA',\n",
        "                        FutureWarning)\n",
        "warnings.filterwarnings('ignore', 'statsmodels.tsa.arima_model.ARIMA',\n",
        "                        FutureWarning)\n",
        "\n",
        "\n",
        "\n",
        "def find_differencing (train_data):\n",
        "    \n",
        "    \"\"\"\n",
        "    Function to find the maximum differencing from two unit tests - ADF and KPSS.\n",
        "    ...\n",
        "\n",
        "    Attributes\n",
        "    ----------\n",
        "    train_data : list\n",
        "    \n",
        "    \"\"\"\n",
        "    \n",
        "    \n",
        "    kpss_diffs = ndiffs(train_data, alpha=0.05, test='kpss', max_d=5)\n",
        "    adf_diffs = ndiffs(train_data, alpha=0.05, test='adf', max_d=5)\n",
        "    n_diffs = max(adf_diffs, kpss_diffs)\n",
        "    \n",
        "    print(f\"Estimated differencing term: {n_diffs}\")\n",
        "    return n_diffs\n",
        "\n",
        "\n",
        "def stepwise_ARIMA(train_data, test_data, optimal_order):\n",
        "    \n",
        "    \"\"\"\n",
        "    Function to perform stepwise ARIMA forecasting.\n",
        "    ...\n",
        "\n",
        "    Attributes\n",
        "    ----------\n",
        "    train_data : list\n",
        "    \n",
        "    test_data : list\n",
        "    \n",
        "    optimal_order : tuple\n",
        "        Optimal order of the ARIMA model, determined by the auto_arima function in the pmdarima library.\n",
        "   \n",
        "    \"\"\"\n",
        "    \n",
        "    history = [x for x in train_data]\n",
        "    model_predictions = []\n",
        "    N_test_observations = len(test_data)\n",
        "    for time_point in range(N_test_observations):\n",
        "        model = ARIMA(history, order=optimal_order)\n",
        "        model_fit = model.fit()\n",
        "        output = model_fit.forecast()\n",
        "        yhat = output[0]\n",
        "        model_predictions.append(yhat)\n",
        "        true_test_value = test_data[time_point]\n",
        "        history.append(true_test_value)\n",
        "    return model_predictions\n",
        "    \n",
        "    \n",
        "def ARIMA_pred(train_data, test_data, optimal_order):\n",
        "    \n",
        "    \"\"\"\n",
        "    Function to perform an ARIMA forecast and plot the results.\n",
        "    ...\n",
        "\n",
        "    Attributes\n",
        "    ----------\n",
        "    train_data : list\n",
        "    \n",
        "    test_data : list\n",
        "    \n",
        "    optimal_order : tuple\n",
        "        Optimal order of the ARIMA model, determined by the auto_arima function in the pmdarima library.\n",
        "   \n",
        "    \"\"\"\n",
        "    timestamp = time.time()\n",
        "\n",
        "    \n",
        "    # Build Model\n",
        "    model = ARIMA(train_data, order=optimal_order)  \n",
        "    fitted = model.fit()  \n",
        "    print(fitted.summary())\n",
        "        \n",
        "    # Forecast\n",
        "    #fc, se, conf = fitted.forecast(len(test_data), alpha=0.10)\n",
        "    fcast = fitted.get_forecast(len(test_data), alpha=0.05).summary_frame()\n",
        "    # Make as pandas series\n",
        "    #fc_series = pd.Series(fc, index=test_data.index)\n",
        "    #lower_series = pd.Series(conf[:, 0], index=test_data.index)\n",
        "    #upper_series = pd.Series(conf[:, 1], index=test_data.index)\n",
        "    \n",
        "    # Plot\n",
        "    plt.figure(figsize=(12,5), dpi=100)\n",
        "    plt.grid(True)\n",
        "    plt.plot(train_data, label='training')\n",
        "    plt.plot(test_data, label='actual')\n",
        "    plt.plot(fcast['mean'],'g--', label='mean_forecast')\n",
        "    #plt.plot(fc_series, label='forecast')\n",
        "    #plt.fill_between(lower_series.index, lower_series, upper_series, \n",
        "                     #color='k', alpha=0.15)\n",
        "    plt.fill_between(fcast.index, fcast['mean_ci_lower'], fcast['mean_ci_upper'], color='k', alpha=0.05);\n",
        "    plt.title('Forecast vs Actuals')\n",
        "    plt.legend(loc='upper left', fontsize=8)\n",
        "    \n",
        "    #plt.savefig('Reports/{}.png'.format(timestamp))\n",
        "\n",
        "    \n",
        "    plt.show()\n",
        "    \n",
        "    return fcast\n"
      ],
      "metadata": {
        "id": "cuMZDcrwu5Mo"
      },
      "execution_count": 9,
      "outputs": []
    },
    {
      "cell_type": "markdown",
      "source": [
        "# Preperation"
      ],
      "metadata": {
        "id": "iim8LxJgv1y4"
      }
    },
    {
      "cell_type": "markdown",
      "source": [
        "Data adding"
      ],
      "metadata": {
        "id": "5dve4lsHv_cs"
      }
    },
    {
      "cell_type": "code",
      "source": [
        "url = 'https://github.com/mehadisaki/Sales-Forecasting-model-development-/blob/main/TV%20Delivery_2016-2022.xlsx?raw=true'\n",
        "#url = 'https://github.com/mehadisaki/Sales-Forecasting-model-development-/blob/main/walton%20TV%20Delivery_2016-2022-m.xlsx?raw=true'\n",
        "# taking link from view raw'\n",
        "\n",
        "## indexing with datetime\n",
        "df =pd.read_excel(url,index_col='Month',parse_dates=['Month'])\n",
        "df.sort_index(inplace = True)\n",
        "df32= df[['Delivery']].loc[df[\"SIZE\"] == \"32\\\" ( 813 mm )\"]\n",
        "#df32.reset_index(inplace=True)\n",
        "#data_close  = df32.rename(columns = {'index':'date'})\n"
      ],
      "metadata": {
        "id": "o4DRKpt5vAxP"
      },
      "execution_count": 372,
      "outputs": []
    },
    {
      "cell_type": "code",
      "source": [
        "df32.head()"
      ],
      "metadata": {
        "colab": {
          "base_uri": "https://localhost:8080/",
          "height": 238
        },
        "id": "4CZkWxzkqmqC",
        "outputId": "85656dba-4afe-416b-e46c-aca8a173e108"
      },
      "execution_count": 11,
      "outputs": [
        {
          "output_type": "execute_result",
          "data": {
            "text/plain": [
              "            Delivery\n",
              "Month               \n",
              "2016-01-01      4513\n",
              "2016-02-01      5225\n",
              "2016-03-01      5583\n",
              "2016-04-01      5493\n",
              "2016-05-01      4864"
            ],
            "text/html": [
              "\n",
              "  <div id=\"df-adf3a5fd-26f1-478f-a42b-5f57db0079ff\">\n",
              "    <div class=\"colab-df-container\">\n",
              "      <div>\n",
              "<style scoped>\n",
              "    .dataframe tbody tr th:only-of-type {\n",
              "        vertical-align: middle;\n",
              "    }\n",
              "\n",
              "    .dataframe tbody tr th {\n",
              "        vertical-align: top;\n",
              "    }\n",
              "\n",
              "    .dataframe thead th {\n",
              "        text-align: right;\n",
              "    }\n",
              "</style>\n",
              "<table border=\"1\" class=\"dataframe\">\n",
              "  <thead>\n",
              "    <tr style=\"text-align: right;\">\n",
              "      <th></th>\n",
              "      <th>Delivery</th>\n",
              "    </tr>\n",
              "    <tr>\n",
              "      <th>Month</th>\n",
              "      <th></th>\n",
              "    </tr>\n",
              "  </thead>\n",
              "  <tbody>\n",
              "    <tr>\n",
              "      <th>2016-01-01</th>\n",
              "      <td>4513</td>\n",
              "    </tr>\n",
              "    <tr>\n",
              "      <th>2016-02-01</th>\n",
              "      <td>5225</td>\n",
              "    </tr>\n",
              "    <tr>\n",
              "      <th>2016-03-01</th>\n",
              "      <td>5583</td>\n",
              "    </tr>\n",
              "    <tr>\n",
              "      <th>2016-04-01</th>\n",
              "      <td>5493</td>\n",
              "    </tr>\n",
              "    <tr>\n",
              "      <th>2016-05-01</th>\n",
              "      <td>4864</td>\n",
              "    </tr>\n",
              "  </tbody>\n",
              "</table>\n",
              "</div>\n",
              "      <button class=\"colab-df-convert\" onclick=\"convertToInteractive('df-adf3a5fd-26f1-478f-a42b-5f57db0079ff')\"\n",
              "              title=\"Convert this dataframe to an interactive table.\"\n",
              "              style=\"display:none;\">\n",
              "        \n",
              "  <svg xmlns=\"http://www.w3.org/2000/svg\" height=\"24px\"viewBox=\"0 0 24 24\"\n",
              "       width=\"24px\">\n",
              "    <path d=\"M0 0h24v24H0V0z\" fill=\"none\"/>\n",
              "    <path d=\"M18.56 5.44l.94 2.06.94-2.06 2.06-.94-2.06-.94-.94-2.06-.94 2.06-2.06.94zm-11 1L8.5 8.5l.94-2.06 2.06-.94-2.06-.94L8.5 2.5l-.94 2.06-2.06.94zm10 10l.94 2.06.94-2.06 2.06-.94-2.06-.94-.94-2.06-.94 2.06-2.06.94z\"/><path d=\"M17.41 7.96l-1.37-1.37c-.4-.4-.92-.59-1.43-.59-.52 0-1.04.2-1.43.59L10.3 9.45l-7.72 7.72c-.78.78-.78 2.05 0 2.83L4 21.41c.39.39.9.59 1.41.59.51 0 1.02-.2 1.41-.59l7.78-7.78 2.81-2.81c.8-.78.8-2.07 0-2.86zM5.41 20L4 18.59l7.72-7.72 1.47 1.35L5.41 20z\"/>\n",
              "  </svg>\n",
              "      </button>\n",
              "      \n",
              "  <style>\n",
              "    .colab-df-container {\n",
              "      display:flex;\n",
              "      flex-wrap:wrap;\n",
              "      gap: 12px;\n",
              "    }\n",
              "\n",
              "    .colab-df-convert {\n",
              "      background-color: #E8F0FE;\n",
              "      border: none;\n",
              "      border-radius: 50%;\n",
              "      cursor: pointer;\n",
              "      display: none;\n",
              "      fill: #1967D2;\n",
              "      height: 32px;\n",
              "      padding: 0 0 0 0;\n",
              "      width: 32px;\n",
              "    }\n",
              "\n",
              "    .colab-df-convert:hover {\n",
              "      background-color: #E2EBFA;\n",
              "      box-shadow: 0px 1px 2px rgba(60, 64, 67, 0.3), 0px 1px 3px 1px rgba(60, 64, 67, 0.15);\n",
              "      fill: #174EA6;\n",
              "    }\n",
              "\n",
              "    [theme=dark] .colab-df-convert {\n",
              "      background-color: #3B4455;\n",
              "      fill: #D2E3FC;\n",
              "    }\n",
              "\n",
              "    [theme=dark] .colab-df-convert:hover {\n",
              "      background-color: #434B5C;\n",
              "      box-shadow: 0px 1px 3px 1px rgba(0, 0, 0, 0.15);\n",
              "      filter: drop-shadow(0px 1px 2px rgba(0, 0, 0, 0.3));\n",
              "      fill: #FFFFFF;\n",
              "    }\n",
              "  </style>\n",
              "\n",
              "      <script>\n",
              "        const buttonEl =\n",
              "          document.querySelector('#df-adf3a5fd-26f1-478f-a42b-5f57db0079ff button.colab-df-convert');\n",
              "        buttonEl.style.display =\n",
              "          google.colab.kernel.accessAllowed ? 'block' : 'none';\n",
              "\n",
              "        async function convertToInteractive(key) {\n",
              "          const element = document.querySelector('#df-adf3a5fd-26f1-478f-a42b-5f57db0079ff');\n",
              "          const dataTable =\n",
              "            await google.colab.kernel.invokeFunction('convertToInteractive',\n",
              "                                                     [key], {});\n",
              "          if (!dataTable) return;\n",
              "\n",
              "          const docLinkHtml = 'Like what you see? Visit the ' +\n",
              "            '<a target=\"_blank\" href=https://colab.research.google.com/notebooks/data_table.ipynb>data table notebook</a>'\n",
              "            + ' to learn more about interactive tables.';\n",
              "          element.innerHTML = '';\n",
              "          dataTable['output_type'] = 'display_data';\n",
              "          await google.colab.output.renderOutput(dataTable, element);\n",
              "          const docLink = document.createElement('div');\n",
              "          docLink.innerHTML = docLinkHtml;\n",
              "          element.appendChild(docLink);\n",
              "        }\n",
              "      </script>\n",
              "    </div>\n",
              "  </div>\n",
              "  "
            ]
          },
          "metadata": {},
          "execution_count": 11
        }
      ]
    },
    {
      "cell_type": "markdown",
      "source": [
        "##Box-cox transform"
      ],
      "metadata": {
        "id": "zy_93IUZqCvP"
      }
    },
    {
      "cell_type": "code",
      "source": [
        "df32_t = df32.copy()\n"
      ],
      "metadata": {
        "id": "ue6YEut63uJJ"
      },
      "execution_count": 373,
      "outputs": []
    },
    {
      "cell_type": "code",
      "source": [
        "run_box_cox(df32_t)"
      ],
      "metadata": {
        "colab": {
          "base_uri": "https://localhost:8080/",
          "height": 718
        },
        "id": "5YjGsW6HsQbo",
        "outputId": "65185fa6-8226-4712-f897-c5ec2e938e96"
      },
      "execution_count": 374,
      "outputs": [
        {
          "output_type": "stream",
          "name": "stdout",
          "text": [
            "0.5811077391636348\n"
          ]
        },
        {
          "output_type": "display_data",
          "data": {
            "text/plain": [
              "<Figure size 864x720 with 4 Axes>"
            ],
            "image/png": "[encoded data removed]"
          },
          "metadata": {}
        },
        {
          "output_type": "execute_result",
          "data": {
            "text/plain": [
              "0.5811077391636348"
            ]
          },
          "metadata": {},
          "execution_count": 374
        }
      ]
    },
    {
      "cell_type": "code",
      "source": [
        "df32_t.head()"
      ],
      "metadata": {
        "colab": {
          "base_uri": "https://localhost:8080/",
          "height": 238
        },
        "id": "GgwM_PYp3eBN",
        "outputId": "7e83842e-6489-4fa3-8dbd-81b2c773d62e"
      },
      "execution_count": 23,
      "outputs": [
        {
          "output_type": "execute_result",
          "data": {
            "text/plain": [
              "              Delivery\n",
              "Month                 \n",
              "2016-01-01  227.039855\n",
              "2016-02-01  247.366722\n",
              "2016-03-01  257.146403\n",
              "2016-04-01  254.713169\n",
              "2016-05-01  237.216385"
            ],
            "text/html": [
              "\n",
              "  <div id=\"df-b6ac9f7a-f97d-4e8a-8bfd-19d84d7fe2be\">\n",
              "    <div class=\"colab-df-container\">\n",
              "      <div>\n",
              "<style scoped>\n",
              "    .dataframe tbody tr th:only-of-type {\n",
              "        vertical-align: middle;\n",
              "    }\n",
              "\n",
              "    .dataframe tbody tr th {\n",
              "        vertical-align: top;\n",
              "    }\n",
              "\n",
              "    .dataframe thead th {\n",
              "        text-align: right;\n",
              "    }\n",
              "</style>\n",
              "<table border=\"1\" class=\"dataframe\">\n",
              "  <thead>\n",
              "    <tr style=\"text-align: right;\">\n",
              "      <th></th>\n",
              "      <th>Delivery</th>\n",
              "    </tr>\n",
              "    <tr>\n",
              "      <th>Month</th>\n",
              "      <th></th>\n",
              "    </tr>\n",
              "  </thead>\n",
              "  <tbody>\n",
              "    <tr>\n",
              "      <th>2016-01-01</th>\n",
              "      <td>227.039855</td>\n",
              "    </tr>\n",
              "    <tr>\n",
              "      <th>2016-02-01</th>\n",
              "      <td>247.366722</td>\n",
              "    </tr>\n",
              "    <tr>\n",
              "      <th>2016-03-01</th>\n",
              "      <td>257.146403</td>\n",
              "    </tr>\n",
              "    <tr>\n",
              "      <th>2016-04-01</th>\n",
              "      <td>254.713169</td>\n",
              "    </tr>\n",
              "    <tr>\n",
              "      <th>2016-05-01</th>\n",
              "      <td>237.216385</td>\n",
              "    </tr>\n",
              "  </tbody>\n",
              "</table>\n",
              "</div>\n",
              "      <button class=\"colab-df-convert\" onclick=\"convertToInteractive('df-b6ac9f7a-f97d-4e8a-8bfd-19d84d7fe2be')\"\n",
              "              title=\"Convert this dataframe to an interactive table.\"\n",
              "              style=\"display:none;\">\n",
              "        \n",
              "  <svg xmlns=\"http://www.w3.org/2000/svg\" height=\"24px\"viewBox=\"0 0 24 24\"\n",
              "       width=\"24px\">\n",
              "    <path d=\"M0 0h24v24H0V0z\" fill=\"none\"/>\n",
              "    <path d=\"M18.56 5.44l.94 2.06.94-2.06 2.06-.94-2.06-.94-.94-2.06-.94 2.06-2.06.94zm-11 1L8.5 8.5l.94-2.06 2.06-.94-2.06-.94L8.5 2.5l-.94 2.06-2.06.94zm10 10l.94 2.06.94-2.06 2.06-.94-2.06-.94-.94-2.06-.94 2.06-2.06.94z\"/><path d=\"M17.41 7.96l-1.37-1.37c-.4-.4-.92-.59-1.43-.59-.52 0-1.04.2-1.43.59L10.3 9.45l-7.72 7.72c-.78.78-.78 2.05 0 2.83L4 21.41c.39.39.9.59 1.41.59.51 0 1.02-.2 1.41-.59l7.78-7.78 2.81-2.81c.8-.78.8-2.07 0-2.86zM5.41 20L4 18.59l7.72-7.72 1.47 1.35L5.41 20z\"/>\n",
              "  </svg>\n",
              "      </button>\n",
              "      \n",
              "  <style>\n",
              "    .colab-df-container {\n",
              "      display:flex;\n",
              "      flex-wrap:wrap;\n",
              "      gap: 12px;\n",
              "    }\n",
              "\n",
              "    .colab-df-convert {\n",
              "      background-color: #E8F0FE;\n",
              "      border: none;\n",
              "      border-radius: 50%;\n",
              "      cursor: pointer;\n",
              "      display: none;\n",
              "      fill: #1967D2;\n",
              "      height: 32px;\n",
              "      padding: 0 0 0 0;\n",
              "      width: 32px;\n",
              "    }\n",
              "\n",
              "    .colab-df-convert:hover {\n",
              "      background-color: #E2EBFA;\n",
              "      box-shadow: 0px 1px 2px rgba(60, 64, 67, 0.3), 0px 1px 3px 1px rgba(60, 64, 67, 0.15);\n",
              "      fill: #174EA6;\n",
              "    }\n",
              "\n",
              "    [theme=dark] .colab-df-convert {\n",
              "      background-color: #3B4455;\n",
              "      fill: #D2E3FC;\n",
              "    }\n",
              "\n",
              "    [theme=dark] .colab-df-convert:hover {\n",
              "      background-color: #434B5C;\n",
              "      box-shadow: 0px 1px 3px 1px rgba(0, 0, 0, 0.15);\n",
              "      filter: drop-shadow(0px 1px 2px rgba(0, 0, 0, 0.3));\n",
              "      fill: #FFFFFF;\n",
              "    }\n",
              "  </style>\n",
              "\n",
              "      <script>\n",
              "        const buttonEl =\n",
              "          document.querySelector('#df-b6ac9f7a-f97d-4e8a-8bfd-19d84d7fe2be button.colab-df-convert');\n",
              "        buttonEl.style.display =\n",
              "          google.colab.kernel.accessAllowed ? 'block' : 'none';\n",
              "\n",
              "        async function convertToInteractive(key) {\n",
              "          const element = document.querySelector('#df-b6ac9f7a-f97d-4e8a-8bfd-19d84d7fe2be');\n",
              "          const dataTable =\n",
              "            await google.colab.kernel.invokeFunction('convertToInteractive',\n",
              "                                                     [key], {});\n",
              "          if (!dataTable) return;\n",
              "\n",
              "          const docLinkHtml = 'Like what you see? Visit the ' +\n",
              "            '<a target=\"_blank\" href=https://colab.research.google.com/notebooks/data_table.ipynb>data table notebook</a>'\n",
              "            + ' to learn more about interactive tables.';\n",
              "          element.innerHTML = '';\n",
              "          dataTable['output_type'] = 'display_data';\n",
              "          await google.colab.output.renderOutput(dataTable, element);\n",
              "          const docLink = document.createElement('div');\n",
              "          docLink.innerHTML = docLinkHtml;\n",
              "          element.appendChild(docLink);\n",
              "        }\n",
              "      </script>\n",
              "    </div>\n",
              "  </div>\n",
              "  "
            ]
          },
          "metadata": {},
          "execution_count": 23
        }
      ]
    },
    {
      "cell_type": "markdown",
      "source": [
        "##Plot the Delivery data"
      ],
      "metadata": {
        "id": "wlzYA5rPwgj0"
      }
    },
    {
      "cell_type": "code",
      "source": [
        "\n",
        "plt.figure(figsize=(10,6))\n",
        "plt.grid(True)\n",
        "plt.xlabel('Dates')\n",
        "plt.ylabel('Delivery')\n",
        "plt.plot(data_close['Delivery'])\n",
        "plt.title('32\" TV Delivery From Jan 2016 - March 2022')\n",
        "plt.show()"
      ],
      "metadata": {
        "id": "BMDLPnbUwYXi"
      },
      "execution_count": null,
      "outputs": []
    },
    {
      "cell_type": "markdown",
      "source": [
        " Find the input dimention for slpiting"
      ],
      "metadata": {
        "id": "0oK-K43dxZZw"
      }
    },
    {
      "cell_type": "code",
      "source": [
        "input_dim = find_input_dim(df32_t)"
      ],
      "metadata": {
        "colab": {
          "base_uri": "https://localhost:8080/",
          "height": 386
        },
        "id": "V4Q_w8egwuio",
        "outputId": "b98585bc-1f75-4314-93c1-02d0b7aecbdd"
      },
      "execution_count": 29,
      "outputs": [
        {
          "output_type": "stream",
          "name": "stdout",
          "text": [
            "Number of values above 0.6 autocorrelation is:  3\n"
          ]
        },
        {
          "output_type": "display_data",
          "data": {
            "text/plain": [
              "<Figure size 504x360 with 1 Axes>"
            ],
            "image/png": "[encoded data removed]"
          },
          "metadata": {}
        }
      ]
    },
    {
      "cell_type": "markdown",
      "source": [
        "## Data Split"
      ],
      "metadata": {
        "id": "feLQ9FgM5zx7"
      }
    },
    {
      "cell_type": "code",
      "source": [
        "train_data, test_data = train_test_split(df32_t, test_size=0.20, shuffle = False)\n",
        "\n",
        "#print(train_data)\n",
        "print(test_data.tail())"
      ],
      "metadata": {
        "colab": {
          "base_uri": "https://localhost:8080/"
        },
        "id": "tS36Llxk83Mq",
        "outputId": "15a3019c-4c86-497d-9b37-8334d0126759"
      },
      "execution_count": 36,
      "outputs": [
        {
          "output_type": "stream",
          "name": "stdout",
          "text": [
            "              Delivery\n",
            "Month                 \n",
            "2021-11-01  520.669397\n",
            "2021-12-01  473.998192\n",
            "2022-01-01  580.455440\n",
            "2022-02-01  631.989152\n",
            "2022-03-01  608.033667\n"
          ]
        }
      ]
    },
    {
      "cell_type": "code",
      "source": [
        "print(train_data.head())"
      ],
      "metadata": {
        "colab": {
          "base_uri": "https://localhost:8080/"
        },
        "id": "oDXa8Vv-9Swc",
        "outputId": "9e22477b-de36-4ce2-9af7-59cf132aaa8e"
      },
      "execution_count": 37,
      "outputs": [
        {
          "output_type": "stream",
          "name": "stdout",
          "text": [
            "              Delivery\n",
            "Month                 \n",
            "2016-01-01  227.039855\n",
            "2016-02-01  247.366722\n",
            "2016-03-01  257.146403\n",
            "2016-04-01  254.713169\n",
            "2016-05-01  237.216385\n"
          ]
        }
      ]
    },
    {
      "cell_type": "markdown",
      "source": [
        "# Model"
      ],
      "metadata": {
        "id": "L5ezRdbK55BA"
      }
    },
    {
      "cell_type": "markdown",
      "source": [
        "## ARIMA"
      ],
      "metadata": {
        "id": "b-ekndA50qyd"
      }
    },
    {
      "cell_type": "markdown",
      "source": [
        "### ARIMA-1\n"
      ],
      "metadata": {
        "id": "4hrftwIV9moi"
      }
    },
    {
      "cell_type": "code",
      "source": [
        "# Build Model\n",
        "#timestamp = time.time()\n",
        "# model order from auto arima \n",
        "model_1 = ARIMA(train_data, order=(0, 1, 1),seasonal_order=(0,0,0,0), enforce_stationarity=True, )  \n",
        "fitted = model_1.fit()  \n",
        "\n",
        "print(fitted.summary())\n",
        "fcast = fitted.get_forecast(len(test_data), alpha=0.05).summary_frame()"
      ],
      "metadata": {
        "id": "fY7Xs4tI5Zu3",
        "colab": {
          "base_uri": "https://localhost:8080/"
        },
        "outputId": "212b199b-3038-48af-fbb2-b374ff6e9103"
      },
      "execution_count": 44,
      "outputs": [
        {
          "output_type": "stream",
          "name": "stdout",
          "text": [
            "                               SARIMAX Results                                \n",
            "==============================================================================\n",
            "Dep. Variable:               Delivery   No. Observations:                   60\n",
            "Model:                 ARIMA(0, 1, 1)   Log Likelihood                -358.938\n",
            "Date:                Thu, 19 May 2022   AIC                            721.875\n",
            "Time:                        15:52:18   BIC                            726.031\n",
            "Sample:                    01-01-2016   HQIC                           723.497\n",
            "                         - 12-01-2020                                         \n",
            "Covariance Type:                  opg                                         \n",
            "==============================================================================\n",
            "                 coef    std err          z      P>|z|      [0.025      0.975]\n",
            "------------------------------------------------------------------------------\n",
            "ma.L1         -0.2337      0.077     -3.038      0.002      -0.384      -0.083\n",
            "sigma2      1.125e+04   1428.140      7.879      0.000    8453.348    1.41e+04\n",
            "===================================================================================\n",
            "Ljung-Box (L1) (Q):                   0.01   Jarque-Bera (JB):                17.80\n",
            "Prob(Q):                              0.92   Prob(JB):                         0.00\n",
            "Heteroskedasticity (H):               4.51   Skew:                            -0.54\n",
            "Prob(H) (two-sided):                  0.00   Kurtosis:                         5.47\n",
            "===================================================================================\n",
            "\n",
            "Warnings:\n",
            "[1] Covariance matrix calculated using the outer product of gradients (complex-step).\n"
          ]
        },
        {
          "output_type": "stream",
          "name": "stderr",
          "text": [
            "/usr/local/lib/python3.7/dist-packages/statsmodels/tsa/base/tsa_model.py:471: ValueWarning: No frequency information was provided, so inferred frequency MS will be used.\n",
            "  self._init_dates(dates, freq)\n",
            "/usr/local/lib/python3.7/dist-packages/statsmodels/tsa/base/tsa_model.py:471: ValueWarning: No frequency information was provided, so inferred frequency MS will be used.\n",
            "  self._init_dates(dates, freq)\n",
            "/usr/local/lib/python3.7/dist-packages/statsmodels/tsa/base/tsa_model.py:471: ValueWarning: No frequency information was provided, so inferred frequency MS will be used.\n",
            "  self._init_dates(dates, freq)\n"
          ]
        }
      ]
    },
    {
      "cell_type": "code",
      "source": [
        ""
      ],
      "metadata": {
        "id": "A_MeU_g35i0_"
      },
      "execution_count": 41,
      "outputs": []
    },
    {
      "cell_type": "markdown",
      "source": [
        "### ARIMA-2"
      ],
      "metadata": {
        "id": "Z9vvH1Ha_bH-"
      }
    },
    {
      "cell_type": "code",
      "source": [
        "# Build Model\n",
        "#timestamp = time.time()\n",
        "# model order from auto arima \n",
        "model_2 = ARIMA(train_data, order=(1, 1, 1),seasonal_order=(1,1,1,12), enforce_stationarity=True, )  \n",
        "fitted2 = model_2.fit()  \n",
        "\n",
        "print(fitted2.summary())\n",
        "fscast = fitted2.get_forecast(len(test_data), alpha=0.05).summary_frame()"
      ],
      "metadata": {
        "colab": {
          "base_uri": "https://localhost:8080/"
        },
        "outputId": "18cc67ed-51a6-43ca-e6f0-6eeb34646905",
        "id": "hqeh-p8z_aYl"
      },
      "execution_count": 45,
      "outputs": [
        {
          "output_type": "stream",
          "name": "stderr",
          "text": [
            "/usr/local/lib/python3.7/dist-packages/statsmodels/tsa/base/tsa_model.py:471: ValueWarning: No frequency information was provided, so inferred frequency MS will be used.\n",
            "  self._init_dates(dates, freq)\n",
            "/usr/local/lib/python3.7/dist-packages/statsmodels/tsa/base/tsa_model.py:471: ValueWarning: No frequency information was provided, so inferred frequency MS will be used.\n",
            "  self._init_dates(dates, freq)\n",
            "/usr/local/lib/python3.7/dist-packages/statsmodels/tsa/base/tsa_model.py:471: ValueWarning: No frequency information was provided, so inferred frequency MS will be used.\n",
            "  self._init_dates(dates, freq)\n",
            "/usr/local/lib/python3.7/dist-packages/statsmodels/tsa/statespace/sarimax.py:1009: UserWarning: Non-invertible starting seasonal moving average Using zeros as starting parameters.\n",
            "  warn('Non-invertible starting seasonal moving average'\n"
          ]
        },
        {
          "output_type": "stream",
          "name": "stdout",
          "text": [
            "                                    SARIMAX Results                                     \n",
            "========================================================================================\n",
            "Dep. Variable:                         Delivery   No. Observations:                   60\n",
            "Model:             ARIMA(1, 1, 1)x(1, 1, 1, 12)   Log Likelihood                -294.073\n",
            "Date:                          Thu, 19 May 2022   AIC                            598.145\n",
            "Time:                                  15:52:26   BIC                            607.396\n",
            "Sample:                              01-01-2016   HQIC                           601.626\n",
            "                                   - 12-01-2020                                         \n",
            "Covariance Type:                            opg                                         \n",
            "==============================================================================\n",
            "                 coef    std err          z      P>|z|      [0.025      0.975]\n",
            "------------------------------------------------------------------------------\n",
            "ar.L1          0.7093      0.241      2.948      0.003       0.238       1.181\n",
            "ma.L1         -0.9995     27.367     -0.037      0.971     -54.637      52.638\n",
            "ar.S.L12      -0.2663      0.751     -0.354      0.723      -1.739       1.207\n",
            "ma.S.L12      -0.4287      1.031     -0.416      0.678      -2.450       1.592\n",
            "sigma2      1.318e+04    3.6e+05      0.037      0.971   -6.93e+05    7.19e+05\n",
            "===================================================================================\n",
            "Ljung-Box (L1) (Q):                   0.09   Jarque-Bera (JB):                49.90\n",
            "Prob(Q):                              0.76   Prob(JB):                         0.00\n",
            "Heteroskedasticity (H):               4.90   Skew:                            -1.33\n",
            "Prob(H) (two-sided):                  0.00   Kurtosis:                         7.29\n",
            "===================================================================================\n",
            "\n",
            "Warnings:\n",
            "[1] Covariance matrix calculated using the outer product of gradients (complex-step).\n"
          ]
        },
        {
          "output_type": "stream",
          "name": "stderr",
          "text": [
            "/usr/local/lib/python3.7/dist-packages/statsmodels/base/model.py:606: ConvergenceWarning: Maximum Likelihood optimization failed to converge. Check mle_retvals\n",
            "  ConvergenceWarning)\n"
          ]
        }
      ]
    },
    {
      "cell_type": "markdown",
      "source": [
        "### ARIMA-3"
      ],
      "metadata": {
        "id": "8hoTlg0iASIn"
      }
    },
    {
      "cell_type": "code",
      "source": [
        "# Build Model\n",
        "#timestamp = time.time()\n",
        "# model order from auto arima \n",
        "model_3 = ARIMA(train_data, order=(1, 1, 1),seasonal_order=(2,1,0,12), enforce_stationarity=True, )  \n",
        "fitted3 = model_3.fit()  \n",
        "\n",
        "print(fitted3.summary())\n",
        "fscast3 = fitted3.get_forecast(len(test_data), alpha=0.05).summary_frame()"
      ],
      "metadata": {
        "colab": {
          "base_uri": "https://localhost:8080/"
        },
        "outputId": "fc71640b-7709-4ed3-99a8-aef7a327101f",
        "id": "Ax3IO_8IA9b1"
      },
      "execution_count": 48,
      "outputs": [
        {
          "output_type": "stream",
          "name": "stderr",
          "text": [
            "/usr/local/lib/python3.7/dist-packages/statsmodels/tsa/base/tsa_model.py:471: ValueWarning: No frequency information was provided, so inferred frequency MS will be used.\n",
            "  self._init_dates(dates, freq)\n",
            "/usr/local/lib/python3.7/dist-packages/statsmodels/tsa/base/tsa_model.py:471: ValueWarning: No frequency information was provided, so inferred frequency MS will be used.\n",
            "  self._init_dates(dates, freq)\n",
            "/usr/local/lib/python3.7/dist-packages/statsmodels/tsa/base/tsa_model.py:471: ValueWarning: No frequency information was provided, so inferred frequency MS will be used.\n",
            "  self._init_dates(dates, freq)\n"
          ]
        },
        {
          "output_type": "stream",
          "name": "stdout",
          "text": [
            "                                     SARIMAX Results                                     \n",
            "=========================================================================================\n",
            "Dep. Variable:                          Delivery   No. Observations:                   60\n",
            "Model:             ARIMA(1, 1, 1)x(2, 1, [], 12)   Log Likelihood                -294.155\n",
            "Date:                           Thu, 19 May 2022   AIC                            598.310\n",
            "Time:                                   15:53:21   BIC                            607.561\n",
            "Sample:                               01-01-2016   HQIC                           601.791\n",
            "                                    - 12-01-2020                                         \n",
            "Covariance Type:                             opg                                         \n",
            "==============================================================================\n",
            "                 coef    std err          z      P>|z|      [0.025      0.975]\n",
            "------------------------------------------------------------------------------\n",
            "ar.L1          0.7145      0.244      2.932      0.003       0.237       1.192\n",
            "ma.L1         -0.9996     28.781     -0.035      0.972     -57.410      55.411\n",
            "ar.S.L12      -0.6523      0.465     -1.403      0.161      -1.564       0.259\n",
            "ar.S.L24      -0.1995      0.427     -0.467      0.640      -1.037       0.638\n",
            "sigma2      1.347e+04   3.86e+05      0.035      0.972   -7.43e+05     7.7e+05\n",
            "===================================================================================\n",
            "Ljung-Box (L1) (Q):                   0.08   Jarque-Bera (JB):                54.89\n",
            "Prob(Q):                              0.77   Prob(JB):                         0.00\n",
            "Heteroskedasticity (H):               4.88   Skew:                            -1.38\n",
            "Prob(H) (two-sided):                  0.00   Kurtosis:                         7.52\n",
            "===================================================================================\n",
            "\n",
            "Warnings:\n",
            "[1] Covariance matrix calculated using the outer product of gradients (complex-step).\n"
          ]
        }
      ]
    },
    {
      "cell_type": "markdown",
      "source": [
        "## MLP"
      ],
      "metadata": {
        "id": "8jjDn8Fj5oML"
      }
    },
    {
      "cell_type": "markdown",
      "source": [
        "Convert dataset to suppervise learning setting"
      ],
      "metadata": {
        "id": "lH8ujgUOijgg"
      }
    },
    {
      "cell_type": "markdown",
      "source": [
        "### MLP-1"
      ],
      "metadata": {
        "id": "XbEcTscGD29G"
      }
    },
    {
      "cell_type": "code",
      "source": [
        "# data_close = df32\n",
        "columns_mlp = ['Delivery']\n",
        "#\n",
        "input_dim1 =4\n",
        "n_lags_mlp = []\n",
        "for i in range(1, input_dim1+1):\n",
        "    n_lags_mlp.append(i)\n",
        "\n",
        "df_new1 = create_regressor_attributes(df32_t, columns_mlp, n_lags_mlp)\n",
        "\n",
        "df_new1.shape"
      ],
      "metadata": {
        "colab": {
          "base_uri": "https://localhost:8080/"
        },
        "id": "Ql-CMIzq6Fyd",
        "outputId": "37352d20-9ac1-43e2-d218-738ddcd1d0b3"
      },
      "execution_count": 375,
      "outputs": [
        {
          "output_type": "execute_result",
          "data": {
            "text/plain": [
              "(71, 5)"
            ]
          },
          "metadata": {},
          "execution_count": 375
        }
      ]
    },
    {
      "cell_type": "code",
      "source": [
        "df32_t.head(11)"
      ],
      "metadata": {
        "colab": {
          "base_uri": "https://localhost:8080/",
          "height": 426
        },
        "id": "YGdMSFfGDHJd",
        "outputId": "06e9fcf6-8e8d-4d3a-a3d3-add728f83987"
      },
      "execution_count": 376,
      "outputs": [
        {
          "output_type": "execute_result",
          "data": {
            "text/plain": [
              "              Delivery   datetime\n",
              "Month                            \n",
              "2016-01-01  227.039855 2016-01-01\n",
              "2016-02-01  247.366722 2016-02-01\n",
              "2016-03-01  257.146403 2016-03-01\n",
              "2016-04-01  254.713169 2016-04-01\n",
              "2016-05-01  237.216385 2016-05-01\n",
              "2016-06-01  347.460223 2016-06-01\n",
              "2016-07-01  342.110282 2016-07-01\n",
              "2016-08-01  378.075126 2016-08-01\n",
              "2016-09-01  323.154525 2016-09-01\n",
              "2016-10-01  363.251814 2016-10-01\n",
              "2016-11-01  298.502386 2016-11-01"
            ],
            "text/html": [
              "\n",
              "  <div id=\"df-0dd50a21-b566-4a05-a741-852ff5a3e4a8\">\n",
              "    <div class=\"colab-df-container\">\n",
              "      <div>\n",
              "<style scoped>\n",
              "    .dataframe tbody tr th:only-of-type {\n",
              "        vertical-align: middle;\n",
              "    }\n",
              "\n",
              "    .dataframe tbody tr th {\n",
              "        vertical-align: top;\n",
              "    }\n",
              "\n",
              "    .dataframe thead th {\n",
              "        text-align: right;\n",
              "    }\n",
              "</style>\n",
              "<table border=\"1\" class=\"dataframe\">\n",
              "  <thead>\n",
              "    <tr style=\"text-align: right;\">\n",
              "      <th></th>\n",
              "      <th>Delivery</th>\n",
              "      <th>datetime</th>\n",
              "    </tr>\n",
              "    <tr>\n",
              "      <th>Month</th>\n",
              "      <th></th>\n",
              "      <th></th>\n",
              "    </tr>\n",
              "  </thead>\n",
              "  <tbody>\n",
              "    <tr>\n",
              "      <th>2016-01-01</th>\n",
              "      <td>227.039855</td>\n",
              "      <td>2016-01-01</td>\n",
              "    </tr>\n",
              "    <tr>\n",
              "      <th>2016-02-01</th>\n",
              "      <td>247.366722</td>\n",
              "      <td>2016-02-01</td>\n",
              "    </tr>\n",
              "    <tr>\n",
              "      <th>2016-03-01</th>\n",
              "      <td>257.146403</td>\n",
              "      <td>2016-03-01</td>\n",
              "    </tr>\n",
              "    <tr>\n",
              "      <th>2016-04-01</th>\n",
              "      <td>254.713169</td>\n",
              "      <td>2016-04-01</td>\n",
              "    </tr>\n",
              "    <tr>\n",
              "      <th>2016-05-01</th>\n",
              "      <td>237.216385</td>\n",
              "      <td>2016-05-01</td>\n",
              "    </tr>\n",
              "    <tr>\n",
              "      <th>2016-06-01</th>\n",
              "      <td>347.460223</td>\n",
              "      <td>2016-06-01</td>\n",
              "    </tr>\n",
              "    <tr>\n",
              "      <th>2016-07-01</th>\n",
              "      <td>342.110282</td>\n",
              "      <td>2016-07-01</td>\n",
              "    </tr>\n",
              "    <tr>\n",
              "      <th>2016-08-01</th>\n",
              "      <td>378.075126</td>\n",
              "      <td>2016-08-01</td>\n",
              "    </tr>\n",
              "    <tr>\n",
              "      <th>2016-09-01</th>\n",
              "      <td>323.154525</td>\n",
              "      <td>2016-09-01</td>\n",
              "    </tr>\n",
              "    <tr>\n",
              "      <th>2016-10-01</th>\n",
              "      <td>363.251814</td>\n",
              "      <td>2016-10-01</td>\n",
              "    </tr>\n",
              "    <tr>\n",
              "      <th>2016-11-01</th>\n",
              "      <td>298.502386</td>\n",
              "      <td>2016-11-01</td>\n",
              "    </tr>\n",
              "  </tbody>\n",
              "</table>\n",
              "</div>\n",
              "      <button class=\"colab-df-convert\" onclick=\"convertToInteractive('df-0dd50a21-b566-4a05-a741-852ff5a3e4a8')\"\n",
              "              title=\"Convert this dataframe to an interactive table.\"\n",
              "              style=\"display:none;\">\n",
              "        \n",
              "  <svg xmlns=\"http://www.w3.org/2000/svg\" height=\"24px\"viewBox=\"0 0 24 24\"\n",
              "       width=\"24px\">\n",
              "    <path d=\"M0 0h24v24H0V0z\" fill=\"none\"/>\n",
              "    <path d=\"M18.56 5.44l.94 2.06.94-2.06 2.06-.94-2.06-.94-.94-2.06-.94 2.06-2.06.94zm-11 1L8.5 8.5l.94-2.06 2.06-.94-2.06-.94L8.5 2.5l-.94 2.06-2.06.94zm10 10l.94 2.06.94-2.06 2.06-.94-2.06-.94-.94-2.06-.94 2.06-2.06.94z\"/><path d=\"M17.41 7.96l-1.37-1.37c-.4-.4-.92-.59-1.43-.59-.52 0-1.04.2-1.43.59L10.3 9.45l-7.72 7.72c-.78.78-.78 2.05 0 2.83L4 21.41c.39.39.9.59 1.41.59.51 0 1.02-.2 1.41-.59l7.78-7.78 2.81-2.81c.8-.78.8-2.07 0-2.86zM5.41 20L4 18.59l7.72-7.72 1.47 1.35L5.41 20z\"/>\n",
              "  </svg>\n",
              "      </button>\n",
              "      \n",
              "  <style>\n",
              "    .colab-df-container {\n",
              "      display:flex;\n",
              "      flex-wrap:wrap;\n",
              "      gap: 12px;\n",
              "    }\n",
              "\n",
              "    .colab-df-convert {\n",
              "      background-color: #E8F0FE;\n",
              "      border: none;\n",
              "      border-radius: 50%;\n",
              "      cursor: pointer;\n",
              "      display: none;\n",
              "      fill: #1967D2;\n",
              "      height: 32px;\n",
              "      padding: 0 0 0 0;\n",
              "      width: 32px;\n",
              "    }\n",
              "\n",
              "    .colab-df-convert:hover {\n",
              "      background-color: #E2EBFA;\n",
              "      box-shadow: 0px 1px 2px rgba(60, 64, 67, 0.3), 0px 1px 3px 1px rgba(60, 64, 67, 0.15);\n",
              "      fill: #174EA6;\n",
              "    }\n",
              "\n",
              "    [theme=dark] .colab-df-convert {\n",
              "      background-color: #3B4455;\n",
              "      fill: #D2E3FC;\n",
              "    }\n",
              "\n",
              "    [theme=dark] .colab-df-convert:hover {\n",
              "      background-color: #434B5C;\n",
              "      box-shadow: 0px 1px 3px 1px rgba(0, 0, 0, 0.15);\n",
              "      filter: drop-shadow(0px 1px 2px rgba(0, 0, 0, 0.3));\n",
              "      fill: #FFFFFF;\n",
              "    }\n",
              "  </style>\n",
              "\n",
              "      <script>\n",
              "        const buttonEl =\n",
              "          document.querySelector('#df-0dd50a21-b566-4a05-a741-852ff5a3e4a8 button.colab-df-convert');\n",
              "        buttonEl.style.display =\n",
              "          google.colab.kernel.accessAllowed ? 'block' : 'none';\n",
              "\n",
              "        async function convertToInteractive(key) {\n",
              "          const element = document.querySelector('#df-0dd50a21-b566-4a05-a741-852ff5a3e4a8');\n",
              "          const dataTable =\n",
              "            await google.colab.kernel.invokeFunction('convertToInteractive',\n",
              "                                                     [key], {});\n",
              "          if (!dataTable) return;\n",
              "\n",
              "          const docLinkHtml = 'Like what you see? Visit the ' +\n",
              "            '<a target=\"_blank\" href=https://colab.research.google.com/notebooks/data_table.ipynb>data table notebook</a>'\n",
              "            + ' to learn more about interactive tables.';\n",
              "          element.innerHTML = '';\n",
              "          dataTable['output_type'] = 'display_data';\n",
              "          await google.colab.output.renderOutput(dataTable, element);\n",
              "          const docLink = document.createElement('div');\n",
              "          docLink.innerHTML = docLinkHtml;\n",
              "          element.appendChild(docLink);\n",
              "        }\n",
              "      </script>\n",
              "    </div>\n",
              "  </div>\n",
              "  "
            ]
          },
          "metadata": {},
          "execution_count": 376
        }
      ]
    },
    {
      "cell_type": "code",
      "source": [
        "df_new1.head()"
      ],
      "metadata": {
        "colab": {
          "base_uri": "https://localhost:8080/",
          "height": 238
        },
        "id": "zw7FxWOGC_4L",
        "outputId": "f1339620-56c4-44fa-d951-b87996528096"
      },
      "execution_count": 377,
      "outputs": [
        {
          "output_type": "execute_result",
          "data": {
            "text/plain": [
              "              Delivery  Delivery_(t-1)  Delivery_(t-2)  Delivery_(t-3)  \\\n",
              "datetime                                                                 \n",
              "2016-05-01  237.216385      254.713169      257.146403      247.366722   \n",
              "2016-06-01  347.460223      237.216385      254.713169      257.146403   \n",
              "2016-07-01  342.110282      347.460223      237.216385      254.713169   \n",
              "2016-08-01  378.075126      342.110282      347.460223      237.216385   \n",
              "2016-09-01  323.154525      378.075126      342.110282      347.460223   \n",
              "\n",
              "            Delivery_(t-4)  \n",
              "datetime                    \n",
              "2016-05-01      227.039855  \n",
              "2016-06-01      247.366722  \n",
              "2016-07-01      257.146403  \n",
              "2016-08-01      254.713169  \n",
              "2016-09-01      237.216385  "
            ],
            "text/html": [
              "\n",
              "  <div id=\"df-d0780d73-f7df-4dc6-bd84-43e39dc0e912\">\n",
              "    <div class=\"colab-df-container\">\n",
              "      <div>\n",
              "<style scoped>\n",
              "    .dataframe tbody tr th:only-of-type {\n",
              "        vertical-align: middle;\n",
              "    }\n",
              "\n",
              "    .dataframe tbody tr th {\n",
              "        vertical-align: top;\n",
              "    }\n",
              "\n",
              "    .dataframe thead th {\n",
              "        text-align: right;\n",
              "    }\n",
              "</style>\n",
              "<table border=\"1\" class=\"dataframe\">\n",
              "  <thead>\n",
              "    <tr style=\"text-align: right;\">\n",
              "      <th></th>\n",
              "      <th>Delivery</th>\n",
              "      <th>Delivery_(t-1)</th>\n",
              "      <th>Delivery_(t-2)</th>\n",
              "      <th>Delivery_(t-3)</th>\n",
              "      <th>Delivery_(t-4)</th>\n",
              "    </tr>\n",
              "    <tr>\n",
              "      <th>datetime</th>\n",
              "      <th></th>\n",
              "      <th></th>\n",
              "      <th></th>\n",
              "      <th></th>\n",
              "      <th></th>\n",
              "    </tr>\n",
              "  </thead>\n",
              "  <tbody>\n",
              "    <tr>\n",
              "      <th>2016-05-01</th>\n",
              "      <td>237.216385</td>\n",
              "      <td>254.713169</td>\n",
              "      <td>257.146403</td>\n",
              "      <td>247.366722</td>\n",
              "      <td>227.039855</td>\n",
              "    </tr>\n",
              "    <tr>\n",
              "      <th>2016-06-01</th>\n",
              "      <td>347.460223</td>\n",
              "      <td>237.216385</td>\n",
              "      <td>254.713169</td>\n",
              "      <td>257.146403</td>\n",
              "      <td>247.366722</td>\n",
              "    </tr>\n",
              "    <tr>\n",
              "      <th>2016-07-01</th>\n",
              "      <td>342.110282</td>\n",
              "      <td>347.460223</td>\n",
              "      <td>237.216385</td>\n",
              "      <td>254.713169</td>\n",
              "      <td>257.146403</td>\n",
              "    </tr>\n",
              "    <tr>\n",
              "      <th>2016-08-01</th>\n",
              "      <td>378.075126</td>\n",
              "      <td>342.110282</td>\n",
              "      <td>347.460223</td>\n",
              "      <td>237.216385</td>\n",
              "      <td>254.713169</td>\n",
              "    </tr>\n",
              "    <tr>\n",
              "      <th>2016-09-01</th>\n",
              "      <td>323.154525</td>\n",
              "      <td>378.075126</td>\n",
              "      <td>342.110282</td>\n",
              "      <td>347.460223</td>\n",
              "      <td>237.216385</td>\n",
              "    </tr>\n",
              "  </tbody>\n",
              "</table>\n",
              "</div>\n",
              "      <button class=\"colab-df-convert\" onclick=\"convertToInteractive('df-d0780d73-f7df-4dc6-bd84-43e39dc0e912')\"\n",
              "              title=\"Convert this dataframe to an interactive table.\"\n",
              "              style=\"display:none;\">\n",
              "        \n",
              "  <svg xmlns=\"http://www.w3.org/2000/svg\" height=\"24px\"viewBox=\"0 0 24 24\"\n",
              "       width=\"24px\">\n",
              "    <path d=\"M0 0h24v24H0V0z\" fill=\"none\"/>\n",
              "    <path d=\"M18.56 5.44l.94 2.06.94-2.06 2.06-.94-2.06-.94-.94-2.06-.94 2.06-2.06.94zm-11 1L8.5 8.5l.94-2.06 2.06-.94-2.06-.94L8.5 2.5l-.94 2.06-2.06.94zm10 10l.94 2.06.94-2.06 2.06-.94-2.06-.94-.94-2.06-.94 2.06-2.06.94z\"/><path d=\"M17.41 7.96l-1.37-1.37c-.4-.4-.92-.59-1.43-.59-.52 0-1.04.2-1.43.59L10.3 9.45l-7.72 7.72c-.78.78-.78 2.05 0 2.83L4 21.41c.39.39.9.59 1.41.59.51 0 1.02-.2 1.41-.59l7.78-7.78 2.81-2.81c.8-.78.8-2.07 0-2.86zM5.41 20L4 18.59l7.72-7.72 1.47 1.35L5.41 20z\"/>\n",
              "  </svg>\n",
              "      </button>\n",
              "      \n",
              "  <style>\n",
              "    .colab-df-container {\n",
              "      display:flex;\n",
              "      flex-wrap:wrap;\n",
              "      gap: 12px;\n",
              "    }\n",
              "\n",
              "    .colab-df-convert {\n",
              "      background-color: #E8F0FE;\n",
              "      border: none;\n",
              "      border-radius: 50%;\n",
              "      cursor: pointer;\n",
              "      display: none;\n",
              "      fill: #1967D2;\n",
              "      height: 32px;\n",
              "      padding: 0 0 0 0;\n",
              "      width: 32px;\n",
              "    }\n",
              "\n",
              "    .colab-df-convert:hover {\n",
              "      background-color: #E2EBFA;\n",
              "      box-shadow: 0px 1px 2px rgba(60, 64, 67, 0.3), 0px 1px 3px 1px rgba(60, 64, 67, 0.15);\n",
              "      fill: #174EA6;\n",
              "    }\n",
              "\n",
              "    [theme=dark] .colab-df-convert {\n",
              "      background-color: #3B4455;\n",
              "      fill: #D2E3FC;\n",
              "    }\n",
              "\n",
              "    [theme=dark] .colab-df-convert:hover {\n",
              "      background-color: #434B5C;\n",
              "      box-shadow: 0px 1px 3px 1px rgba(0, 0, 0, 0.15);\n",
              "      filter: drop-shadow(0px 1px 2px rgba(0, 0, 0, 0.3));\n",
              "      fill: #FFFFFF;\n",
              "    }\n",
              "  </style>\n",
              "\n",
              "      <script>\n",
              "        const buttonEl =\n",
              "          document.querySelector('#df-d0780d73-f7df-4dc6-bd84-43e39dc0e912 button.colab-df-convert');\n",
              "        buttonEl.style.display =\n",
              "          google.colab.kernel.accessAllowed ? 'block' : 'none';\n",
              "\n",
              "        async function convertToInteractive(key) {\n",
              "          const element = document.querySelector('#df-d0780d73-f7df-4dc6-bd84-43e39dc0e912');\n",
              "          const dataTable =\n",
              "            await google.colab.kernel.invokeFunction('convertToInteractive',\n",
              "                                                     [key], {});\n",
              "          if (!dataTable) return;\n",
              "\n",
              "          const docLinkHtml = 'Like what you see? Visit the ' +\n",
              "            '<a target=\"_blank\" href=https://colab.research.google.com/notebooks/data_table.ipynb>data table notebook</a>'\n",
              "            + ' to learn more about interactive tables.';\n",
              "          element.innerHTML = '';\n",
              "          dataTable['output_type'] = 'display_data';\n",
              "          await google.colab.output.renderOutput(dataTable, element);\n",
              "          const docLink = document.createElement('div');\n",
              "          docLink.innerHTML = docLinkHtml;\n",
              "          element.appendChild(docLink);\n",
              "        }\n",
              "      </script>\n",
              "    </div>\n",
              "  </div>\n",
              "  "
            ]
          },
          "metadata": {},
          "execution_count": 377
        }
      ]
    },
    {
      "cell_type": "markdown",
      "source": [
        "### MLP-2"
      ],
      "metadata": {
        "id": "66o2y7MNFEWP"
      }
    },
    {
      "cell_type": "code",
      "source": [
        "# data_close = df32\n",
        "columns_mlp = ['Delivery']\n",
        "#\n",
        "input_dim2 =10\n",
        "n_lags_mlp = []\n",
        "for i in range(1, input_dim2+1):\n",
        "    n_lags_mlp.append(i)\n",
        "\n",
        "df_new2 = create_regressor_attributes(df32_t, columns_mlp, n_lags_mlp)\n",
        "\n",
        "df_new2.shape"
      ],
      "metadata": {
        "colab": {
          "base_uri": "https://localhost:8080/"
        },
        "id": "cIMfZmh7CXUh",
        "outputId": "07668a24-a4d0-4d76-9789-b446970d053a"
      },
      "execution_count": 393,
      "outputs": [
        {
          "output_type": "execute_result",
          "data": {
            "text/plain": [
              "(65, 11)"
            ]
          },
          "metadata": {},
          "execution_count": 393
        }
      ]
    },
    {
      "cell_type": "code",
      "source": [
        "df32_t.head()"
      ],
      "metadata": {
        "colab": {
          "base_uri": "https://localhost:8080/",
          "height": 238
        },
        "id": "vP09UEs-Lt-8",
        "outputId": "19d6560f-7cff-42dd-aeaa-a5f570ffcdc6"
      },
      "execution_count": 371,
      "outputs": [
        {
          "output_type": "execute_result",
          "data": {
            "text/plain": [
              "              Delivery   datetime\n",
              "Month                            \n",
              "2016-01-01  227.039855 2016-01-01\n",
              "2016-02-01  247.366722 2016-02-01\n",
              "2016-03-01  257.146403 2016-03-01\n",
              "2016-04-01  254.713169 2016-04-01\n",
              "2016-05-01  237.216385 2016-05-01"
            ],
            "text/html": [
              "\n",
              "  <div id=\"df-c4a7a3d9-7e48-4a4d-85b4-0d5fe6015ee9\">\n",
              "    <div class=\"colab-df-container\">\n",
              "      <div>\n",
              "<style scoped>\n",
              "    .dataframe tbody tr th:only-of-type {\n",
              "        vertical-align: middle;\n",
              "    }\n",
              "\n",
              "    .dataframe tbody tr th {\n",
              "        vertical-align: top;\n",
              "    }\n",
              "\n",
              "    .dataframe thead th {\n",
              "        text-align: right;\n",
              "    }\n",
              "</style>\n",
              "<table border=\"1\" class=\"dataframe\">\n",
              "  <thead>\n",
              "    <tr style=\"text-align: right;\">\n",
              "      <th></th>\n",
              "      <th>Delivery</th>\n",
              "      <th>datetime</th>\n",
              "    </tr>\n",
              "    <tr>\n",
              "      <th>Month</th>\n",
              "      <th></th>\n",
              "      <th></th>\n",
              "    </tr>\n",
              "  </thead>\n",
              "  <tbody>\n",
              "    <tr>\n",
              "      <th>2016-01-01</th>\n",
              "      <td>227.039855</td>\n",
              "      <td>2016-01-01</td>\n",
              "    </tr>\n",
              "    <tr>\n",
              "      <th>2016-02-01</th>\n",
              "      <td>247.366722</td>\n",
              "      <td>2016-02-01</td>\n",
              "    </tr>\n",
              "    <tr>\n",
              "      <th>2016-03-01</th>\n",
              "      <td>257.146403</td>\n",
              "      <td>2016-03-01</td>\n",
              "    </tr>\n",
              "    <tr>\n",
              "      <th>2016-04-01</th>\n",
              "      <td>254.713169</td>\n",
              "      <td>2016-04-01</td>\n",
              "    </tr>\n",
              "    <tr>\n",
              "      <th>2016-05-01</th>\n",
              "      <td>237.216385</td>\n",
              "      <td>2016-05-01</td>\n",
              "    </tr>\n",
              "  </tbody>\n",
              "</table>\n",
              "</div>\n",
              "      <button class=\"colab-df-convert\" onclick=\"convertToInteractive('df-c4a7a3d9-7e48-4a4d-85b4-0d5fe6015ee9')\"\n",
              "              title=\"Convert this dataframe to an interactive table.\"\n",
              "              style=\"display:none;\">\n",
              "        \n",
              "  <svg xmlns=\"http://www.w3.org/2000/svg\" height=\"24px\"viewBox=\"0 0 24 24\"\n",
              "       width=\"24px\">\n",
              "    <path d=\"M0 0h24v24H0V0z\" fill=\"none\"/>\n",
              "    <path d=\"M18.56 5.44l.94 2.06.94-2.06 2.06-.94-2.06-.94-.94-2.06-.94 2.06-2.06.94zm-11 1L8.5 8.5l.94-2.06 2.06-.94-2.06-.94L8.5 2.5l-.94 2.06-2.06.94zm10 10l.94 2.06.94-2.06 2.06-.94-2.06-.94-.94-2.06-.94 2.06-2.06.94z\"/><path d=\"M17.41 7.96l-1.37-1.37c-.4-.4-.92-.59-1.43-.59-.52 0-1.04.2-1.43.59L10.3 9.45l-7.72 7.72c-.78.78-.78 2.05 0 2.83L4 21.41c.39.39.9.59 1.41.59.51 0 1.02-.2 1.41-.59l7.78-7.78 2.81-2.81c.8-.78.8-2.07 0-2.86zM5.41 20L4 18.59l7.72-7.72 1.47 1.35L5.41 20z\"/>\n",
              "  </svg>\n",
              "      </button>\n",
              "      \n",
              "  <style>\n",
              "    .colab-df-container {\n",
              "      display:flex;\n",
              "      flex-wrap:wrap;\n",
              "      gap: 12px;\n",
              "    }\n",
              "\n",
              "    .colab-df-convert {\n",
              "      background-color: #E8F0FE;\n",
              "      border: none;\n",
              "      border-radius: 50%;\n",
              "      cursor: pointer;\n",
              "      display: none;\n",
              "      fill: #1967D2;\n",
              "      height: 32px;\n",
              "      padding: 0 0 0 0;\n",
              "      width: 32px;\n",
              "    }\n",
              "\n",
              "    .colab-df-convert:hover {\n",
              "      background-color: #E2EBFA;\n",
              "      box-shadow: 0px 1px 2px rgba(60, 64, 67, 0.3), 0px 1px 3px 1px rgba(60, 64, 67, 0.15);\n",
              "      fill: #174EA6;\n",
              "    }\n",
              "\n",
              "    [theme=dark] .colab-df-convert {\n",
              "      background-color: #3B4455;\n",
              "      fill: #D2E3FC;\n",
              "    }\n",
              "\n",
              "    [theme=dark] .colab-df-convert:hover {\n",
              "      background-color: #434B5C;\n",
              "      box-shadow: 0px 1px 3px 1px rgba(0, 0, 0, 0.15);\n",
              "      filter: drop-shadow(0px 1px 2px rgba(0, 0, 0, 0.3));\n",
              "      fill: #FFFFFF;\n",
              "    }\n",
              "  </style>\n",
              "\n",
              "      <script>\n",
              "        const buttonEl =\n",
              "          document.querySelector('#df-c4a7a3d9-7e48-4a4d-85b4-0d5fe6015ee9 button.colab-df-convert');\n",
              "        buttonEl.style.display =\n",
              "          google.colab.kernel.accessAllowed ? 'block' : 'none';\n",
              "\n",
              "        async function convertToInteractive(key) {\n",
              "          const element = document.querySelector('#df-c4a7a3d9-7e48-4a4d-85b4-0d5fe6015ee9');\n",
              "          const dataTable =\n",
              "            await google.colab.kernel.invokeFunction('convertToInteractive',\n",
              "                                                     [key], {});\n",
              "          if (!dataTable) return;\n",
              "\n",
              "          const docLinkHtml = 'Like what you see? Visit the ' +\n",
              "            '<a target=\"_blank\" href=https://colab.research.google.com/notebooks/data_table.ipynb>data table notebook</a>'\n",
              "            + ' to learn more about interactive tables.';\n",
              "          element.innerHTML = '';\n",
              "          dataTable['output_type'] = 'display_data';\n",
              "          await google.colab.output.renderOutput(dataTable, element);\n",
              "          const docLink = document.createElement('div');\n",
              "          docLink.innerHTML = docLinkHtml;\n",
              "          element.appendChild(docLink);\n",
              "        }\n",
              "      </script>\n",
              "    </div>\n",
              "  </div>\n",
              "  "
            ]
          },
          "metadata": {},
          "execution_count": 371
        }
      ]
    },
    {
      "cell_type": "code",
      "source": [
        "df_new2.head()"
      ],
      "metadata": {
        "id": "4HQApN1d6Mwk",
        "colab": {
          "base_uri": "https://localhost:8080/",
          "height": 368
        },
        "outputId": "47244d49-7f5d-4bc5-b895-8b6fa18b5915"
      },
      "execution_count": 90,
      "outputs": [
        {
          "output_type": "execute_result",
          "data": {
            "text/plain": [
              "              Delivery  Delivery_(t-1)  Delivery_(t-2)  Delivery_(t-3)  \\\n",
              "datetime                                                                 \n",
              "2016-11-01  298.502386      363.251814      323.154525      378.075126   \n",
              "2016-12-01  449.238995      298.502386      363.251814      323.154525   \n",
              "2017-01-01  540.728957      449.238995      298.502386      363.251814   \n",
              "2017-02-01  438.638565      540.728957      449.238995      298.502386   \n",
              "2017-03-01  614.705522      438.638565      540.728957      449.238995   \n",
              "\n",
              "            Delivery_(t-4)  Delivery_(t-5)  Delivery_(t-6)  Delivery_(t-7)  \\\n",
              "datetime                                                                     \n",
              "2016-11-01      342.110282      347.460223      237.216385      254.713169   \n",
              "2016-12-01      378.075126      342.110282      347.460223      237.216385   \n",
              "2017-01-01      323.154525      378.075126      342.110282      347.460223   \n",
              "2017-02-01      363.251814      323.154525      378.075126      342.110282   \n",
              "2017-03-01      298.502386      363.251814      323.154525      378.075126   \n",
              "\n",
              "            Delivery_(t-8)  Delivery_(t-9)  Delivery_(t-10)  \n",
              "datetime                                                     \n",
              "2016-11-01      257.146403      247.366722       227.039855  \n",
              "2016-12-01      254.713169      257.146403       247.366722  \n",
              "2017-01-01      237.216385      254.713169       257.146403  \n",
              "2017-02-01      347.460223      237.216385       254.713169  \n",
              "2017-03-01      342.110282      347.460223       237.216385  "
            ],
            "text/html": [
              "\n",
              "  <div id=\"df-64042cf3-b73e-4f01-8437-b281aabe77e8\">\n",
              "    <div class=\"colab-df-container\">\n",
              "      <div>\n",
              "<style scoped>\n",
              "    .dataframe tbody tr th:only-of-type {\n",
              "        vertical-align: middle;\n",
              "    }\n",
              "\n",
              "    .dataframe tbody tr th {\n",
              "        vertical-align: top;\n",
              "    }\n",
              "\n",
              "    .dataframe thead th {\n",
              "        text-align: right;\n",
              "    }\n",
              "</style>\n",
              "<table border=\"1\" class=\"dataframe\">\n",
              "  <thead>\n",
              "    <tr style=\"text-align: right;\">\n",
              "      <th></th>\n",
              "      <th>Delivery</th>\n",
              "      <th>Delivery_(t-1)</th>\n",
              "      <th>Delivery_(t-2)</th>\n",
              "      <th>Delivery_(t-3)</th>\n",
              "      <th>Delivery_(t-4)</th>\n",
              "      <th>Delivery_(t-5)</th>\n",
              "      <th>Delivery_(t-6)</th>\n",
              "      <th>Delivery_(t-7)</th>\n",
              "      <th>Delivery_(t-8)</th>\n",
              "      <th>Delivery_(t-9)</th>\n",
              "      <th>Delivery_(t-10)</th>\n",
              "    </tr>\n",
              "    <tr>\n",
              "      <th>datetime</th>\n",
              "      <th></th>\n",
              "      <th></th>\n",
              "      <th></th>\n",
              "      <th></th>\n",
              "      <th></th>\n",
              "      <th></th>\n",
              "      <th></th>\n",
              "      <th></th>\n",
              "      <th></th>\n",
              "      <th></th>\n",
              "      <th></th>\n",
              "    </tr>\n",
              "  </thead>\n",
              "  <tbody>\n",
              "    <tr>\n",
              "      <th>2016-11-01</th>\n",
              "      <td>298.502386</td>\n",
              "      <td>363.251814</td>\n",
              "      <td>323.154525</td>\n",
              "      <td>378.075126</td>\n",
              "      <td>342.110282</td>\n",
              "      <td>347.460223</td>\n",
              "      <td>237.216385</td>\n",
              "      <td>254.713169</td>\n",
              "      <td>257.146403</td>\n",
              "      <td>247.366722</td>\n",
              "      <td>227.039855</td>\n",
              "    </tr>\n",
              "    <tr>\n",
              "      <th>2016-12-01</th>\n",
              "      <td>449.238995</td>\n",
              "      <td>298.502386</td>\n",
              "      <td>363.251814</td>\n",
              "      <td>323.154525</td>\n",
              "      <td>378.075126</td>\n",
              "      <td>342.110282</td>\n",
              "      <td>347.460223</td>\n",
              "      <td>237.216385</td>\n",
              "      <td>254.713169</td>\n",
              "      <td>257.146403</td>\n",
              "      <td>247.366722</td>\n",
              "    </tr>\n",
              "    <tr>\n",
              "      <th>2017-01-01</th>\n",
              "      <td>540.728957</td>\n",
              "      <td>449.238995</td>\n",
              "      <td>298.502386</td>\n",
              "      <td>363.251814</td>\n",
              "      <td>323.154525</td>\n",
              "      <td>378.075126</td>\n",
              "      <td>342.110282</td>\n",
              "      <td>347.460223</td>\n",
              "      <td>237.216385</td>\n",
              "      <td>254.713169</td>\n",
              "      <td>257.146403</td>\n",
              "    </tr>\n",
              "    <tr>\n",
              "      <th>2017-02-01</th>\n",
              "      <td>438.638565</td>\n",
              "      <td>540.728957</td>\n",
              "      <td>449.238995</td>\n",
              "      <td>298.502386</td>\n",
              "      <td>363.251814</td>\n",
              "      <td>323.154525</td>\n",
              "      <td>378.075126</td>\n",
              "      <td>342.110282</td>\n",
              "      <td>347.460223</td>\n",
              "      <td>237.216385</td>\n",
              "      <td>254.713169</td>\n",
              "    </tr>\n",
              "    <tr>\n",
              "      <th>2017-03-01</th>\n",
              "      <td>614.705522</td>\n",
              "      <td>438.638565</td>\n",
              "      <td>540.728957</td>\n",
              "      <td>449.238995</td>\n",
              "      <td>298.502386</td>\n",
              "      <td>363.251814</td>\n",
              "      <td>323.154525</td>\n",
              "      <td>378.075126</td>\n",
              "      <td>342.110282</td>\n",
              "      <td>347.460223</td>\n",
              "      <td>237.216385</td>\n",
              "    </tr>\n",
              "  </tbody>\n",
              "</table>\n",
              "</div>\n",
              "      <button class=\"colab-df-convert\" onclick=\"convertToInteractive('df-64042cf3-b73e-4f01-8437-b281aabe77e8')\"\n",
              "              title=\"Convert this dataframe to an interactive table.\"\n",
              "              style=\"display:none;\">\n",
              "        \n",
              "  <svg xmlns=\"http://www.w3.org/2000/svg\" height=\"24px\"viewBox=\"0 0 24 24\"\n",
              "       width=\"24px\">\n",
              "    <path d=\"M0 0h24v24H0V0z\" fill=\"none\"/>\n",
              "    <path d=\"M18.56 5.44l.94 2.06.94-2.06 2.06-.94-2.06-.94-.94-2.06-.94 2.06-2.06.94zm-11 1L8.5 8.5l.94-2.06 2.06-.94-2.06-.94L8.5 2.5l-.94 2.06-2.06.94zm10 10l.94 2.06.94-2.06 2.06-.94-2.06-.94-.94-2.06-.94 2.06-2.06.94z\"/><path d=\"M17.41 7.96l-1.37-1.37c-.4-.4-.92-.59-1.43-.59-.52 0-1.04.2-1.43.59L10.3 9.45l-7.72 7.72c-.78.78-.78 2.05 0 2.83L4 21.41c.39.39.9.59 1.41.59.51 0 1.02-.2 1.41-.59l7.78-7.78 2.81-2.81c.8-.78.8-2.07 0-2.86zM5.41 20L4 18.59l7.72-7.72 1.47 1.35L5.41 20z\"/>\n",
              "  </svg>\n",
              "      </button>\n",
              "      \n",
              "  <style>\n",
              "    .colab-df-container {\n",
              "      display:flex;\n",
              "      flex-wrap:wrap;\n",
              "      gap: 12px;\n",
              "    }\n",
              "\n",
              "    .colab-df-convert {\n",
              "      background-color: #E8F0FE;\n",
              "      border: none;\n",
              "      border-radius: 50%;\n",
              "      cursor: pointer;\n",
              "      display: none;\n",
              "      fill: #1967D2;\n",
              "      height: 32px;\n",
              "      padding: 0 0 0 0;\n",
              "      width: 32px;\n",
              "    }\n",
              "\n",
              "    .colab-df-convert:hover {\n",
              "      background-color: #E2EBFA;\n",
              "      box-shadow: 0px 1px 2px rgba(60, 64, 67, 0.3), 0px 1px 3px 1px rgba(60, 64, 67, 0.15);\n",
              "      fill: #174EA6;\n",
              "    }\n",
              "\n",
              "    [theme=dark] .colab-df-convert {\n",
              "      background-color: #3B4455;\n",
              "      fill: #D2E3FC;\n",
              "    }\n",
              "\n",
              "    [theme=dark] .colab-df-convert:hover {\n",
              "      background-color: #434B5C;\n",
              "      box-shadow: 0px 1px 3px 1px rgba(0, 0, 0, 0.15);\n",
              "      filter: drop-shadow(0px 1px 2px rgba(0, 0, 0, 0.3));\n",
              "      fill: #FFFFFF;\n",
              "    }\n",
              "  </style>\n",
              "\n",
              "      <script>\n",
              "        const buttonEl =\n",
              "          document.querySelector('#df-64042cf3-b73e-4f01-8437-b281aabe77e8 button.colab-df-convert');\n",
              "        buttonEl.style.display =\n",
              "          google.colab.kernel.accessAllowed ? 'block' : 'none';\n",
              "\n",
              "        async function convertToInteractive(key) {\n",
              "          const element = document.querySelector('#df-64042cf3-b73e-4f01-8437-b281aabe77e8');\n",
              "          const dataTable =\n",
              "            await google.colab.kernel.invokeFunction('convertToInteractive',\n",
              "                                                     [key], {});\n",
              "          if (!dataTable) return;\n",
              "\n",
              "          const docLinkHtml = 'Like what you see? Visit the ' +\n",
              "            '<a target=\"_blank\" href=https://colab.research.google.com/notebooks/data_table.ipynb>data table notebook</a>'\n",
              "            + ' to learn more about interactive tables.';\n",
              "          element.innerHTML = '';\n",
              "          dataTable['output_type'] = 'display_data';\n",
              "          await google.colab.output.renderOutput(dataTable, element);\n",
              "          const docLink = document.createElement('div');\n",
              "          docLink.innerHTML = docLinkHtml;\n",
              "          element.appendChild(docLink);\n",
              "        }\n",
              "      </script>\n",
              "    </div>\n",
              "  </div>\n",
              "  "
            ]
          },
          "metadata": {},
          "execution_count": 90
        }
      ]
    },
    {
      "cell_type": "markdown",
      "source": [
        "###MLP-3"
      ],
      "metadata": {
        "id": "haCCr8svFWYO"
      }
    },
    {
      "cell_type": "code",
      "source": [
        "# data_close = df32\n",
        "columns_mlp = ['Delivery']\n",
        "#\n",
        "input_dim3 =8\n",
        "n_lags_mlp = []\n",
        "for i in range(1, input_dim3+1):\n",
        "    n_lags_mlp.append(i)\n",
        "\n",
        "df_new3 = create_regressor_attributes(df32_t, columns_mlp, n_lags_mlp)\n",
        "\n",
        "df_new3.shape"
      ],
      "metadata": {
        "colab": {
          "base_uri": "https://localhost:8080/"
        },
        "outputId": "48eebc2a-c0fd-467e-9704-851cf2eaa593",
        "id": "FWW4lVBUFTKV"
      },
      "execution_count": 392,
      "outputs": [
        {
          "output_type": "execute_result",
          "data": {
            "text/plain": [
              "(67, 9)"
            ]
          },
          "metadata": {},
          "execution_count": 392
        }
      ]
    },
    {
      "cell_type": "markdown",
      "source": [
        "## Split for MLP"
      ],
      "metadata": {
        "id": "8D2WtAQO7SY2"
      }
    },
    {
      "cell_type": "code",
      "source": [
        "#test_set_size=0.2, valid_set_size=0.1\n",
        "X_train, y_train, X_valid, y_valid, X_test, y_test = create_train_valid_test(df_new2, 0.20, 0.10)"
      ],
      "metadata": {
        "colab": {
          "base_uri": "https://localhost:8080/"
        },
        "id": "VurmuPYp6OXM",
        "outputId": "066e033b-6bb2-438a-fecf-a50e873fcaf3"
      },
      "execution_count": 394,
      "outputs": [
        {
          "output_type": "stream",
          "name": "stdout",
          "text": [
            "Shape of training inputs, training target: (46, 10) (46,)\n",
            "Shape of validation inputs, validation target: (6, 10) (6,)\n",
            "Shape of test inputs, test target: (13, 10) (13,)\n"
          ]
        }
      ]
    },
    {
      "cell_type": "markdown",
      "source": [
        "###Scaling"
      ],
      "metadata": {
        "id": "7vmtjELE7aLD"
      }
    },
    {
      "cell_type": "code",
      "source": [
        "scaler = MinMaxScaler()\n",
        "\n",
        "X_train_scaled, y_train_scaled, X_valid_scaled, y_valid_scaled, X_test_scaled, y_test_scaled = scale_data(X_train, y_train, X_valid, y_valid, X_test, y_test, scaler)"
      ],
      "metadata": {
        "id": "3tv8NjGx6QBJ"
      },
      "execution_count": 395,
      "outputs": []
    },
    {
      "cell_type": "markdown",
      "source": [
        "### reverse scale"
      ],
      "metadata": {
        "id": "A6bZ-qWeF1C2"
      }
    },
    {
      "cell_type": "code",
      "source": [
        "y_test_rescaled = scaler.inverse_transform(y_test_scaled)"
      ],
      "metadata": {
        "id": "w62-R8l-7caY"
      },
      "execution_count": 396,
      "outputs": []
    },
    {
      "cell_type": "code",
      "source": [
        "y_test_rescaled "
      ],
      "metadata": {
        "colab": {
          "base_uri": "https://localhost:8080/"
        },
        "id": "bEnjjd3XBY6I",
        "outputId": "f726285a-30a4-4584-8490-dd8fed5f514f"
      },
      "execution_count": 381,
      "outputs": [
        {
          "output_type": "execute_result",
          "data": {
            "text/plain": [
              "array([[576.84194665],\n",
              "       [613.5225871 ],\n",
              "       [750.93405601],\n",
              "       [597.0652431 ],\n",
              "       [546.80622332],\n",
              "       [608.17895046],\n",
              "       [520.14943487],\n",
              "       [490.237268  ],\n",
              "       [801.68949887],\n",
              "       [550.98167673],\n",
              "       [520.66939672],\n",
              "       [473.99819161],\n",
              "       [580.4554399 ],\n",
              "       [631.98915189],\n",
              "       [608.03366705]])"
            ]
          },
          "metadata": {},
          "execution_count": 381
        }
      ]
    },
    {
      "cell_type": "markdown",
      "source": [
        "## Baseline test"
      ],
      "metadata": {
        "id": "ECtcbgXtF7od"
      }
    },
    {
      "cell_type": "markdown",
      "source": [
        "### MLP-1"
      ],
      "metadata": {
        "id": "eKw0j2DhGcub"
      }
    },
    {
      "cell_type": "code",
      "source": [
        "baseline_test(10, input_dim2, X_train_scaled, y_train_scaled, X_valid_scaled, y_valid_scaled, X_test_scaled, y_test_rescaled, scaler)"
      ],
      "metadata": {
        "id": "DIb08X4i7fwS",
        "colab": {
          "base_uri": "https://localhost:8080/"
        },
        "outputId": "d283d00f-f439-4309-c7fa-9859e900edec"
      },
      "execution_count": 397,
      "outputs": [
        {
          "output_type": "stream",
          "name": "stdout",
          "text": [
            "[INFO] training model...\n",
            "Mean Squared Error(MSE):  21787.994857042464\n",
            "Mean Absolute Error(MAE):  115.18925688305589\n",
            "Root Mean Squared Error(RMSE): 147.60757045979202\n",
            " Mean absolute percentage Error(MAPE): 0.17726221828466932\n",
            "[INFO] training model...\n",
            "Mean Squared Error(MSE):  22098.779063039055\n",
            "Mean Absolute Error(MAE):  116.86243240138522\n",
            "Root Mean Squared Error(RMSE): 148.6565809610831\n",
            " Mean absolute percentage Error(MAPE): 0.18019084101534633\n",
            "[INFO] training model...\n",
            "Mean Squared Error(MSE):  22098.779063039055\n",
            "Mean Absolute Error(MAE):  116.86243240138522\n",
            "Root Mean Squared Error(RMSE): 148.6565809610831\n",
            " Mean absolute percentage Error(MAPE): 0.18019084101534633\n",
            "[INFO] training model...\n",
            "Mean Squared Error(MSE):  22098.779063039055\n",
            "Mean Absolute Error(MAE):  116.86243240138522\n",
            "Root Mean Squared Error(RMSE): 148.6565809610831\n",
            " Mean absolute percentage Error(MAPE): 0.18019084101534633\n",
            "[INFO] training model...\n",
            "Mean Squared Error(MSE):  22098.779063039055\n",
            "Mean Absolute Error(MAE):  116.86243240138522\n",
            "Root Mean Squared Error(RMSE): 148.6565809610831\n",
            " Mean absolute percentage Error(MAPE): 0.18019084101534633\n",
            "[INFO] training model...\n",
            "Mean Squared Error(MSE):  22098.779063039055\n",
            "Mean Absolute Error(MAE):  116.86243240138522\n",
            "Root Mean Squared Error(RMSE): 148.6565809610831\n",
            " Mean absolute percentage Error(MAPE): 0.18019084101534633\n",
            "[INFO] training model...\n",
            "Mean Squared Error(MSE):  22098.779063039055\n",
            "Mean Absolute Error(MAE):  116.86243240138522\n",
            "Root Mean Squared Error(RMSE): 148.6565809610831\n",
            " Mean absolute percentage Error(MAPE): 0.18019084101534633\n",
            "[INFO] training model...\n",
            "Mean Squared Error(MSE):  21979.235923398985\n",
            "Mean Absolute Error(MAE):  116.28027908107272\n",
            "Root Mean Squared Error(RMSE): 148.2539575303101\n",
            " Mean absolute percentage Error(MAPE): 0.17918791593222816\n",
            "[INFO] training model...\n",
            "Mean Squared Error(MSE):  22287.65534162149\n",
            "Mean Absolute Error(MAE):  111.64204065720719\n",
            "Root Mean Squared Error(RMSE): 149.29050653548433\n",
            " Mean absolute percentage Error(MAPE): 0.17474833542930782\n",
            "[INFO] training model...\n",
            "Mean Squared Error(MSE):  13669.29300767256\n",
            "Mean Absolute Error(MAE):  95.17083944151389\n",
            "Root Mean Squared Error(RMSE): 116.91575175173173\n",
            " Mean absolute percentage Error(MAPE): 0.16491265670388577\n"
          ]
        },
        {
          "output_type": "execute_result",
          "data": {
            "text/plain": [
              "(21231.685350796983, 113.9457010471161)"
            ]
          },
          "metadata": {},
          "execution_count": 397
        }
      ]
    },
    {
      "cell_type": "markdown",
      "source": [
        "### MLP-2"
      ],
      "metadata": {
        "id": "44H_F65LaxN4"
      }
    },
    {
      "cell_type": "markdown",
      "source": [
        "#### Model"
      ],
      "metadata": {
        "id": "4tMEkqQgTF2p"
      }
    },
    {
      "cell_type": "code",
      "source": [
        "# wrap model into a scikit-learn compatible regressor\n",
        "model = KerasRegressor(build_fn=get_mlp_model, verbose=0, input_dim=input_dim2)\n",
        "# define a grid of the hyperparameter search space\n",
        "hidden_layer_one = [25, 50, 100]\n",
        "hidden_layer_two = [5, 10, 25]\n",
        "learn_rate = [0.01, 0.001, 0.0001]\n",
        "dropout = [0.1, 0.2 , 0.3, 0.4, 0.5]\n",
        "batch_size = [4, 8, 16, 32, 64, 128]\n",
        "epochs = [10, 50, 100, 500, 1000]\n",
        "# create a dictionary from the hyperparameter grid\n",
        "grid = dict(\n",
        "    hidden_layer_one=hidden_layer_one,\n",
        "    hidden_layer_two=hidden_layer_two,\n",
        "    dropout=dropout,\n",
        "    learn_rate=learn_rate,\n",
        "    batch_size=batch_size,\n",
        "    epochs=epochs\n",
        ")"
      ],
      "metadata": {
        "id": "LRzhxsn57jNk",
        "colab": {
          "base_uri": "https://localhost:8080/"
        },
        "outputId": "8052ade9-d038-4b02-f6b8-4d5b0024d022"
      },
      "execution_count": 398,
      "outputs": [
        {
          "output_type": "stream",
          "name": "stderr",
          "text": [
            "/usr/local/lib/python3.7/dist-packages/ipykernel_launcher.py:2: DeprecationWarning: KerasRegressor is deprecated, use Sci-Keras (https://github.com/adriangb/scikeras) instead. See https://www.adriangb.com/scikeras/stable/migration.html for help migrating.\n",
            "  \n"
          ]
        }
      ]
    },
    {
      "cell_type": "markdown",
      "source": [
        "Find the best parameters"
      ],
      "metadata": {
        "id": "7cgNaN96TiqU"
      }
    },
    {
      "cell_type": "code",
      "source": [
        "best_parameters = optimize_parameters(model, grid, X_train_scaled, y_train_scaled)\n",
        "\n",
        "\n",
        "hidden_layer_one=best_parameters['hidden_layer_one']\n",
        "hidden_layer_two=best_parameters['hidden_layer_two']\n",
        "dropout=best_parameters['dropout']\n",
        "learn_rate=best_parameters['learn_rate']\n",
        "batch_size=best_parameters['batch_size']\n",
        "epochs=best_parameters['epochs']\n",
        "\n",
        "\n",
        "best_model = get_mlp_model(input_dim2, hidden_layer_one=hidden_layer_one, hidden_layer_two=hidden_layer_two,\n",
        "    dropout=dropout, learn_rate=learn_rate)"
      ],
      "metadata": {
        "id": "PMTYOPXc8-T2",
        "colab": {
          "base_uri": "https://localhost:8080/"
        },
        "outputId": "187b1f2a-6218-4501-d8f8-e6eedf4d89a1"
      },
      "execution_count": 399,
      "outputs": [
        {
          "output_type": "stream",
          "name": "stdout",
          "text": [
            "[INFO] performing random search...\n",
            "Best parameters are: {'learn_rate': 0.0001, 'hidden_layer_two': 25, 'hidden_layer_one': 50, 'epochs': 1000, 'dropout': 0.2, 'batch_size': 32}\n"
          ]
        }
      ]
    },
    {
      "cell_type": "code",
      "source": [
        "#Early Stopp\n",
        "es = EarlyStopping(monitor='val_loss', mode='min', min_delta = 0, patience = 25, verbose=1, restore_best_weights=True)\n",
        "\n",
        "\n",
        "history = best_model.fit(x=X_train_scaled, y=y_train_scaled,\n",
        "    validation_data=(X_valid_scaled, y_valid_scaled),\n",
        "    batch_size=batch_size,\n",
        "    epochs=epochs,\n",
        "    callbacks=es,\n",
        "    shuffle=False,\n",
        "    verbose=False)\n",
        "\n",
        "MLP_pred = best_model.predict(X_test_scaled)\n",
        "MLP_pred_rescaled = scaler.inverse_transform(MLP_pred)"
      ],
      "metadata": {
        "id": "NnnJ1Zc89Csi",
        "colab": {
          "base_uri": "https://localhost:8080/"
        },
        "outputId": "375a2236-c276-49f4-8e69-a7190aa4bcef"
      },
      "execution_count": 159,
      "outputs": [
        {
          "output_type": "stream",
          "name": "stdout",
          "text": [
            "Restoring model weights from the end of the best epoch: 1.\n",
            "Epoch 26: early stopping\n"
          ]
        }
      ]
    },
    {
      "cell_type": "code",
      "source": [
        "MLP_pred_rescaled"
      ],
      "metadata": {
        "colab": {
          "base_uri": "https://localhost:8080/"
        },
        "id": "sqaeq9PZHHpU",
        "outputId": "ca3c4c5a-e48c-4403-aa93-edffac940971"
      },
      "execution_count": 105,
      "outputs": [
        {
          "output_type": "execute_result",
          "data": {
            "text/plain": [
              "array([[607.29694],\n",
              "       [605.9836 ],\n",
              "       [578.9576 ],\n",
              "       [615.6362 ],\n",
              "       [588.4267 ],\n",
              "       [615.76355],\n",
              "       [625.2431 ],\n",
              "       [556.0319 ],\n",
              "       [565.2271 ],\n",
              "       [623.742  ],\n",
              "       [580.7949 ],\n",
              "       [611.0915 ],\n",
              "       [646.08575],\n",
              "       [558.28143],\n",
              "       [562.5606 ]], dtype=float32)"
            ]
          },
          "metadata": {},
          "execution_count": 105
        }
      ]
    },
    {
      "cell_type": "markdown",
      "source": [
        "## Plot MLP"
      ],
      "metadata": {
        "id": "OCBinygyIwxp"
      }
    },
    {
      "cell_type": "code",
      "source": [
        "\n",
        "y_actual,y_hat = comparison_graph(y_test_rescaled, MLP_pred_rescaled)\n",
        "\n",
        "\n",
        "print(\"Error measures for MLP1:\")\n",
        "calculate_error_measures(y_test_rescaled, MLP_pred_rescaled)"
      ],
      "metadata": {
        "id": "a4hlmJMEAP0M",
        "colab": {
          "base_uri": "https://localhost:8080/"
        },
        "outputId": "5564d65c-80fd-4998-ff2a-22ea58c76d34"
      },
      "execution_count": 160,
      "outputs": [
        {
          "output_type": "stream",
          "name": "stdout",
          "text": [
            "Error measures for MLP1:\n",
            "Mean Squared Error(MSE):  11534.69598202615\n",
            "Mean Absolute Error(MAE):  81.9941279351457\n",
            "Root Mean Squared Error(RMSE): 107.39970196432647\n",
            " Mean absolute percentage Error(MAPE): 0.1283975316282119\n"
          ]
        },
        {
          "output_type": "execute_result",
          "data": {
            "text/plain": [
              "[11534.69598202615, 81.9941279351457, 107.39970196432647, 0.1283975316282119]"
            ]
          },
          "metadata": {},
          "execution_count": 160
        }
      ]
    },
    {
      "cell_type": "code",
      "source": [
        "plt.figure(figsize=(11, 6))\n",
        "plt.plot(y_actual, linestyle='solid', color='r')\n",
        "plt.plot(y_hat, linestyle='dashed', color='g')\n",
        "    \n",
        "plt.legend(['Actual','Predicted'], loc='best', prop={'size': 14})\n",
        "plt.title('32\" TV delivery', weight='bold', fontsize=16)\n",
        "plt.ylabel('Pcs', weight='bold', fontsize=14)\n",
        "plt.xlabel('Test Set Month no.', weight='bold', fontsize=14)\n",
        "plt.xticks(weight='bold', fontsize=12, rotation=45)\n",
        "plt.yticks(weight='bold', fontsize=12)\n",
        "plt.grid(True)\n",
        "    \n",
        "plt.savefig(\"Comperisom_ML_3.png\")\n",
        "plt.savefig(f\"{images_dir}/Comperisom_ML_3.png\")   \n",
        "plt.show()"
      ],
      "metadata": {
        "colab": {
          "base_uri": "https://localhost:8080/",
          "height": 424
        },
        "id": "1J3-Z8wQX6SC",
        "outputId": "bba95ebd-2ce2-40d5-8676-b6b78f272be2"
      },
      "execution_count": 161,
      "outputs": [
        {
          "output_type": "display_data",
          "data": {
            "text/plain": [
              "<Figure size 792x432 with 1 Axes>"
            ],
            "image/png": "[encoded data removed]"
          },
          "metadata": {}
        }
      ]
    },
    {
      "cell_type": "code",
      "source": [
        "plot_loss(history)"
      ],
      "metadata": {
        "colab": {
          "base_uri": "https://localhost:8080/",
          "height": 377
        },
        "id": "AFTBK2vWJHh6",
        "outputId": "85d60483-37b4-49e6-f20e-3af8bd08f919"
      },
      "execution_count": 162,
      "outputs": [
        {
          "output_type": "display_data",
          "data": {
            "text/plain": [
              "<Figure size 792x432 with 1 Axes>"
            ],
            "image/png": "[encoded data removed]"
          },
          "metadata": {}
        }
      ]
    },
    {
      "cell_type": "code",
      "source": [
        "plot_model(best_model,\n",
        "    #to_file=\"Reports/MLP.png\",\n",
        "    show_shapes=True,\n",
        "    show_layer_names=False,\n",
        "    rankdir=\"LR\",\n",
        "    expand_nested=True,\n",
        "    dpi=96)\n",
        " #images_dir = '/content/gdrive/My Drive/TS - forcast project/new_image'\n",
        "\n"
      ],
      "metadata": {
        "id": "wTtPHKQoAVQQ",
        "colab": {
          "base_uri": "https://localhost:8080/",
          "height": 152
        },
        "outputId": "c57fcb89-c60c-4f1d-82c3-da9ef7f7ab30"
      },
      "execution_count": 163,
      "outputs": [
        {
          "output_type": "execute_result",
          "data": {
            "text/plain": [
              "<IPython.core.display.Image object>"
            ],
            "image/png": "[encoded data removed]"
          },
          "metadata": {},
          "execution_count": 163
        }
      ]
    },
    {
      "cell_type": "markdown",
      "source": [
        ""
      ],
      "metadata": {
        "id": "moiRGM-vC89v"
      }
    },
    {
      "cell_type": "code",
      "source": [
        ""
      ],
      "metadata": {
        "id": "_qp6zechUIuC"
      },
      "execution_count": null,
      "outputs": []
    },
    {
      "cell_type": "markdown",
      "source": [
        "## Hybrid"
      ],
      "metadata": {
        "id": "9YGUNRPXDlm-"
      }
    },
    {
      "cell_type": "markdown",
      "source": [
        "### Statistical model"
      ],
      "metadata": {
        "id": "JcyfdZVcZ_6C"
      }
    },
    {
      "cell_type": "markdown",
      "source": [
        "### Residue"
      ],
      "metadata": {
        "id": "xlLXQdekZ8gP"
      }
    },
    {
      "cell_type": "markdown",
      "source": [
        "### ARIMA-1"
      ],
      "metadata": {
        "id": "FmrKVz4PogDT"
      }
    },
    {
      "cell_type": "markdown",
      "source": [
        "Collecting residue from Statistical analysis like ARIMA for Machine learning model by subtructing calculated value from actual value\n"
      ],
      "metadata": {
        "id": "EL_Du20pZslC"
      }
    },
    {
      "cell_type": "markdown",
      "source": [
        ""
      ],
      "metadata": {
        "id": "zVtobtVKofT_"
      }
    },
    {
      "cell_type": "code",
      "source": [
        "#fc_resid = ARIMA_pred(train_data2, test_data2, )\n",
        "\n",
        "residuals_1= [a-b for a,b in zip(test_data['Delivery'], fscast3['mean'])]\n",
        "\n",
        "resid_1 = pd.DataFrame(residuals_1, columns = ['resid'])"
      ],
      "metadata": {
        "id": "sws6fKAMZrpb"
      },
      "execution_count": 353,
      "outputs": []
    },
    {
      "cell_type": "code",
      "source": [
        "fscast['mean'].head()"
      ],
      "metadata": {
        "colab": {
          "base_uri": "https://localhost:8080/"
        },
        "id": "2yF_MxeX60Pq",
        "outputId": "f58ac5df-6a32-4787-90ec-2bb682b2ad9b"
      },
      "execution_count": 330,
      "outputs": [
        {
          "output_type": "execute_result",
          "data": {
            "text/plain": [
              "2021-01-01    638.264809\n",
              "2021-02-01    571.517854\n",
              "2021-03-01    604.365878\n",
              "2021-04-01    568.061744\n",
              "2021-05-01    680.229602\n",
              "Freq: MS, Name: mean, dtype: float64"
            ]
          },
          "metadata": {},
          "execution_count": 330
        }
      ]
    },
    {
      "cell_type": "code",
      "source": [
        "resid_1.head()"
      ],
      "metadata": {
        "colab": {
          "base_uri": "https://localhost:8080/",
          "height": 206
        },
        "id": "p_soXh_hqLIB",
        "outputId": "38200ebf-e1f1-400f-8fc8-d45b65b384b2"
      },
      "execution_count": 360,
      "outputs": [
        {
          "output_type": "execute_result",
          "data": {
            "text/plain": [
              "        resid  datetime\n",
              "0  -49.412070         0\n",
              "1   55.108077         1\n",
              "2  172.159124         2\n",
              "3   57.538091         3\n",
              "4 -131.053306         4"
            ],
            "text/html": [
              "\n",
              "  <div id=\"df-2ed049fa-fc82-4ad0-a8a8-7c93d4d39f09\">\n",
              "    <div class=\"colab-df-container\">\n",
              "      <div>\n",
              "<style scoped>\n",
              "    .dataframe tbody tr th:only-of-type {\n",
              "        vertical-align: middle;\n",
              "    }\n",
              "\n",
              "    .dataframe tbody tr th {\n",
              "        vertical-align: top;\n",
              "    }\n",
              "\n",
              "    .dataframe thead th {\n",
              "        text-align: right;\n",
              "    }\n",
              "</style>\n",
              "<table border=\"1\" class=\"dataframe\">\n",
              "  <thead>\n",
              "    <tr style=\"text-align: right;\">\n",
              "      <th></th>\n",
              "      <th>resid</th>\n",
              "      <th>datetime</th>\n",
              "    </tr>\n",
              "  </thead>\n",
              "  <tbody>\n",
              "    <tr>\n",
              "      <th>0</th>\n",
              "      <td>-49.412070</td>\n",
              "      <td>0</td>\n",
              "    </tr>\n",
              "    <tr>\n",
              "      <th>1</th>\n",
              "      <td>55.108077</td>\n",
              "      <td>1</td>\n",
              "    </tr>\n",
              "    <tr>\n",
              "      <th>2</th>\n",
              "      <td>172.159124</td>\n",
              "      <td>2</td>\n",
              "    </tr>\n",
              "    <tr>\n",
              "      <th>3</th>\n",
              "      <td>57.538091</td>\n",
              "      <td>3</td>\n",
              "    </tr>\n",
              "    <tr>\n",
              "      <th>4</th>\n",
              "      <td>-131.053306</td>\n",
              "      <td>4</td>\n",
              "    </tr>\n",
              "  </tbody>\n",
              "</table>\n",
              "</div>\n",
              "      <button class=\"colab-df-convert\" onclick=\"convertToInteractive('df-2ed049fa-fc82-4ad0-a8a8-7c93d4d39f09')\"\n",
              "              title=\"Convert this dataframe to an interactive table.\"\n",
              "              style=\"display:none;\">\n",
              "        \n",
              "  <svg xmlns=\"http://www.w3.org/2000/svg\" height=\"24px\"viewBox=\"0 0 24 24\"\n",
              "       width=\"24px\">\n",
              "    <path d=\"M0 0h24v24H0V0z\" fill=\"none\"/>\n",
              "    <path d=\"M18.56 5.44l.94 2.06.94-2.06 2.06-.94-2.06-.94-.94-2.06-.94 2.06-2.06.94zm-11 1L8.5 8.5l.94-2.06 2.06-.94-2.06-.94L8.5 2.5l-.94 2.06-2.06.94zm10 10l.94 2.06.94-2.06 2.06-.94-2.06-.94-.94-2.06-.94 2.06-2.06.94z\"/><path d=\"M17.41 7.96l-1.37-1.37c-.4-.4-.92-.59-1.43-.59-.52 0-1.04.2-1.43.59L10.3 9.45l-7.72 7.72c-.78.78-.78 2.05 0 2.83L4 21.41c.39.39.9.59 1.41.59.51 0 1.02-.2 1.41-.59l7.78-7.78 2.81-2.81c.8-.78.8-2.07 0-2.86zM5.41 20L4 18.59l7.72-7.72 1.47 1.35L5.41 20z\"/>\n",
              "  </svg>\n",
              "      </button>\n",
              "      \n",
              "  <style>\n",
              "    .colab-df-container {\n",
              "      display:flex;\n",
              "      flex-wrap:wrap;\n",
              "      gap: 12px;\n",
              "    }\n",
              "\n",
              "    .colab-df-convert {\n",
              "      background-color: #E8F0FE;\n",
              "      border: none;\n",
              "      border-radius: 50%;\n",
              "      cursor: pointer;\n",
              "      display: none;\n",
              "      fill: #1967D2;\n",
              "      height: 32px;\n",
              "      padding: 0 0 0 0;\n",
              "      width: 32px;\n",
              "    }\n",
              "\n",
              "    .colab-df-convert:hover {\n",
              "      background-color: #E2EBFA;\n",
              "      box-shadow: 0px 1px 2px rgba(60, 64, 67, 0.3), 0px 1px 3px 1px rgba(60, 64, 67, 0.15);\n",
              "      fill: #174EA6;\n",
              "    }\n",
              "\n",
              "    [theme=dark] .colab-df-convert {\n",
              "      background-color: #3B4455;\n",
              "      fill: #D2E3FC;\n",
              "    }\n",
              "\n",
              "    [theme=dark] .colab-df-convert:hover {\n",
              "      background-color: #434B5C;\n",
              "      box-shadow: 0px 1px 3px 1px rgba(0, 0, 0, 0.15);\n",
              "      filter: drop-shadow(0px 1px 2px rgba(0, 0, 0, 0.3));\n",
              "      fill: #FFFFFF;\n",
              "    }\n",
              "  </style>\n",
              "\n",
              "      <script>\n",
              "        const buttonEl =\n",
              "          document.querySelector('#df-2ed049fa-fc82-4ad0-a8a8-7c93d4d39f09 button.colab-df-convert');\n",
              "        buttonEl.style.display =\n",
              "          google.colab.kernel.accessAllowed ? 'block' : 'none';\n",
              "\n",
              "        async function convertToInteractive(key) {\n",
              "          const element = document.querySelector('#df-2ed049fa-fc82-4ad0-a8a8-7c93d4d39f09');\n",
              "          const dataTable =\n",
              "            await google.colab.kernel.invokeFunction('convertToInteractive',\n",
              "                                                     [key], {});\n",
              "          if (!dataTable) return;\n",
              "\n",
              "          const docLinkHtml = 'Like what you see? Visit the ' +\n",
              "            '<a target=\"_blank\" href=https://colab.research.google.com/notebooks/data_table.ipynb>data table notebook</a>'\n",
              "            + ' to learn more about interactive tables.';\n",
              "          element.innerHTML = '';\n",
              "          dataTable['output_type'] = 'display_data';\n",
              "          await google.colab.output.renderOutput(dataTable, element);\n",
              "          const docLink = document.createElement('div');\n",
              "          docLink.innerHTML = docLinkHtml;\n",
              "          element.appendChild(docLink);\n",
              "        }\n",
              "      </script>\n",
              "    </div>\n",
              "  </div>\n",
              "  "
            ]
          },
          "metadata": {},
          "execution_count": 360
        }
      ]
    },
    {
      "cell_type": "markdown",
      "source": [
        "### Input dimention for ML"
      ],
      "metadata": {
        "id": "ijSlxOiXbBa1"
      }
    },
    {
      "cell_type": "code",
      "source": [
        "input_dim_hybrid_1 =  6"
      ],
      "metadata": {
        "id": "ompegzI6askt"
      },
      "execution_count": 364,
      "outputs": []
    },
    {
      "cell_type": "markdown",
      "source": [
        "### MLP "
      ],
      "metadata": {
        "id": "h3ng-m52bK7_"
      }
    },
    {
      "cell_type": "markdown",
      "source": [
        "ARIMA_1 - MLP-1"
      ],
      "metadata": {
        "id": "FjDdMaRtrcvG"
      }
    },
    {
      "cell_type": "code",
      "source": [
        ""
      ],
      "metadata": {
        "id": "B9N3TmcorJV_"
      },
      "execution_count": 364,
      "outputs": []
    },
    {
      "cell_type": "code",
      "source": [
        "\n",
        "column_hybrid = ['resid']\n",
        "\n",
        "n_lags_hybrid = []\n",
        "for i in range(1, input_dim_hybrid_1+1):\n",
        "    n_lags_hybrid.append(i)\n",
        "\n",
        "df_new_hybrid_1 = create_regressor_attributes(resid_1, column_hybrid, n_lags_hybrid)"
      ],
      "metadata": {
        "id": "Z2MoxqB7a_5t"
      },
      "execution_count": 365,
      "outputs": []
    },
    {
      "cell_type": "code",
      "source": [
        "df_new_hybrid_1.head()"
      ],
      "metadata": {
        "colab": {
          "base_uri": "https://localhost:8080/",
          "height": 238
        },
        "id": "YO_BkR7FbTU3",
        "outputId": "263e6580-77c5-422c-84e6-d2ec064fb90b"
      },
      "execution_count": 366,
      "outputs": [
        {
          "output_type": "execute_result",
          "data": {
            "text/plain": [
              "               resid  resid_(t-1)  resid_(t-2)  resid_(t-3)  resid_(t-4)  \\\n",
              "datetime                                                                   \n",
              "6        -272.908057  -122.285020  -131.053306    57.538091   172.159124   \n",
              "7        -226.307578  -272.908057  -122.285020  -131.053306    57.538091   \n",
              "8          58.508357  -226.307578  -272.908057  -122.285020  -131.053306   \n",
              "9        -225.730763    58.508357  -226.307578  -272.908057  -122.285020   \n",
              "10       -192.668459  -225.730763    58.508357  -226.307578  -272.908057   \n",
              "\n",
              "          resid_(t-5)  resid_(t-6)  \n",
              "datetime                            \n",
              "6           55.108077   -49.412070  \n",
              "7          172.159124    55.108077  \n",
              "8           57.538091   172.159124  \n",
              "9         -131.053306    57.538091  \n",
              "10        -122.285020  -131.053306  "
            ],
            "text/html": [
              "\n",
              "  <div id=\"df-53cf65f7-dcac-4b0e-8126-4df0f335a4f7\">\n",
              "    <div class=\"colab-df-container\">\n",
              "      <div>\n",
              "<style scoped>\n",
              "    .dataframe tbody tr th:only-of-type {\n",
              "        vertical-align: middle;\n",
              "    }\n",
              "\n",
              "    .dataframe tbody tr th {\n",
              "        vertical-align: top;\n",
              "    }\n",
              "\n",
              "    .dataframe thead th {\n",
              "        text-align: right;\n",
              "    }\n",
              "</style>\n",
              "<table border=\"1\" class=\"dataframe\">\n",
              "  <thead>\n",
              "    <tr style=\"text-align: right;\">\n",
              "      <th></th>\n",
              "      <th>resid</th>\n",
              "      <th>resid_(t-1)</th>\n",
              "      <th>resid_(t-2)</th>\n",
              "      <th>resid_(t-3)</th>\n",
              "      <th>resid_(t-4)</th>\n",
              "      <th>resid_(t-5)</th>\n",
              "      <th>resid_(t-6)</th>\n",
              "    </tr>\n",
              "    <tr>\n",
              "      <th>datetime</th>\n",
              "      <th></th>\n",
              "      <th></th>\n",
              "      <th></th>\n",
              "      <th></th>\n",
              "      <th></th>\n",
              "      <th></th>\n",
              "      <th></th>\n",
              "    </tr>\n",
              "  </thead>\n",
              "  <tbody>\n",
              "    <tr>\n",
              "      <th>6</th>\n",
              "      <td>-272.908057</td>\n",
              "      <td>-122.285020</td>\n",
              "      <td>-131.053306</td>\n",
              "      <td>57.538091</td>\n",
              "      <td>172.159124</td>\n",
              "      <td>55.108077</td>\n",
              "      <td>-49.412070</td>\n",
              "    </tr>\n",
              "    <tr>\n",
              "      <th>7</th>\n",
              "      <td>-226.307578</td>\n",
              "      <td>-272.908057</td>\n",
              "      <td>-122.285020</td>\n",
              "      <td>-131.053306</td>\n",
              "      <td>57.538091</td>\n",
              "      <td>172.159124</td>\n",
              "      <td>55.108077</td>\n",
              "    </tr>\n",
              "    <tr>\n",
              "      <th>8</th>\n",
              "      <td>58.508357</td>\n",
              "      <td>-226.307578</td>\n",
              "      <td>-272.908057</td>\n",
              "      <td>-122.285020</td>\n",
              "      <td>-131.053306</td>\n",
              "      <td>57.538091</td>\n",
              "      <td>172.159124</td>\n",
              "    </tr>\n",
              "    <tr>\n",
              "      <th>9</th>\n",
              "      <td>-225.730763</td>\n",
              "      <td>58.508357</td>\n",
              "      <td>-226.307578</td>\n",
              "      <td>-272.908057</td>\n",
              "      <td>-122.285020</td>\n",
              "      <td>-131.053306</td>\n",
              "      <td>57.538091</td>\n",
              "    </tr>\n",
              "    <tr>\n",
              "      <th>10</th>\n",
              "      <td>-192.668459</td>\n",
              "      <td>-225.730763</td>\n",
              "      <td>58.508357</td>\n",
              "      <td>-226.307578</td>\n",
              "      <td>-272.908057</td>\n",
              "      <td>-122.285020</td>\n",
              "      <td>-131.053306</td>\n",
              "    </tr>\n",
              "  </tbody>\n",
              "</table>\n",
              "</div>\n",
              "      <button class=\"colab-df-convert\" onclick=\"convertToInteractive('df-53cf65f7-dcac-4b0e-8126-4df0f335a4f7')\"\n",
              "              title=\"Convert this dataframe to an interactive table.\"\n",
              "              style=\"display:none;\">\n",
              "        \n",
              "  <svg xmlns=\"http://www.w3.org/2000/svg\" height=\"24px\"viewBox=\"0 0 24 24\"\n",
              "       width=\"24px\">\n",
              "    <path d=\"M0 0h24v24H0V0z\" fill=\"none\"/>\n",
              "    <path d=\"M18.56 5.44l.94 2.06.94-2.06 2.06-.94-2.06-.94-.94-2.06-.94 2.06-2.06.94zm-11 1L8.5 8.5l.94-2.06 2.06-.94-2.06-.94L8.5 2.5l-.94 2.06-2.06.94zm10 10l.94 2.06.94-2.06 2.06-.94-2.06-.94-.94-2.06-.94 2.06-2.06.94z\"/><path d=\"M17.41 7.96l-1.37-1.37c-.4-.4-.92-.59-1.43-.59-.52 0-1.04.2-1.43.59L10.3 9.45l-7.72 7.72c-.78.78-.78 2.05 0 2.83L4 21.41c.39.39.9.59 1.41.59.51 0 1.02-.2 1.41-.59l7.78-7.78 2.81-2.81c.8-.78.8-2.07 0-2.86zM5.41 20L4 18.59l7.72-7.72 1.47 1.35L5.41 20z\"/>\n",
              "  </svg>\n",
              "      </button>\n",
              "      \n",
              "  <style>\n",
              "    .colab-df-container {\n",
              "      display:flex;\n",
              "      flex-wrap:wrap;\n",
              "      gap: 12px;\n",
              "    }\n",
              "\n",
              "    .colab-df-convert {\n",
              "      background-color: #E8F0FE;\n",
              "      border: none;\n",
              "      border-radius: 50%;\n",
              "      cursor: pointer;\n",
              "      display: none;\n",
              "      fill: #1967D2;\n",
              "      height: 32px;\n",
              "      padding: 0 0 0 0;\n",
              "      width: 32px;\n",
              "    }\n",
              "\n",
              "    .colab-df-convert:hover {\n",
              "      background-color: #E2EBFA;\n",
              "      box-shadow: 0px 1px 2px rgba(60, 64, 67, 0.3), 0px 1px 3px 1px rgba(60, 64, 67, 0.15);\n",
              "      fill: #174EA6;\n",
              "    }\n",
              "\n",
              "    [theme=dark] .colab-df-convert {\n",
              "      background-color: #3B4455;\n",
              "      fill: #D2E3FC;\n",
              "    }\n",
              "\n",
              "    [theme=dark] .colab-df-convert:hover {\n",
              "      background-color: #434B5C;\n",
              "      box-shadow: 0px 1px 3px 1px rgba(0, 0, 0, 0.15);\n",
              "      filter: drop-shadow(0px 1px 2px rgba(0, 0, 0, 0.3));\n",
              "      fill: #FFFFFF;\n",
              "    }\n",
              "  </style>\n",
              "\n",
              "      <script>\n",
              "        const buttonEl =\n",
              "          document.querySelector('#df-53cf65f7-dcac-4b0e-8126-4df0f335a4f7 button.colab-df-convert');\n",
              "        buttonEl.style.display =\n",
              "          google.colab.kernel.accessAllowed ? 'block' : 'none';\n",
              "\n",
              "        async function convertToInteractive(key) {\n",
              "          const element = document.querySelector('#df-53cf65f7-dcac-4b0e-8126-4df0f335a4f7');\n",
              "          const dataTable =\n",
              "            await google.colab.kernel.invokeFunction('convertToInteractive',\n",
              "                                                     [key], {});\n",
              "          if (!dataTable) return;\n",
              "\n",
              "          const docLinkHtml = 'Like what you see? Visit the ' +\n",
              "            '<a target=\"_blank\" href=https://colab.research.google.com/notebooks/data_table.ipynb>data table notebook</a>'\n",
              "            + ' to learn more about interactive tables.';\n",
              "          element.innerHTML = '';\n",
              "          dataTable['output_type'] = 'display_data';\n",
              "          await google.colab.output.renderOutput(dataTable, element);\n",
              "          const docLink = document.createElement('div');\n",
              "          docLink.innerHTML = docLinkHtml;\n",
              "          element.appendChild(docLink);\n",
              "        }\n",
              "      </script>\n",
              "    </div>\n",
              "  </div>\n",
              "  "
            ]
          },
          "metadata": {},
          "execution_count": 366
        }
      ]
    },
    {
      "cell_type": "markdown",
      "source": [
        "Split\n"
      ],
      "metadata": {
        "id": "MyZMnVNobfvK"
      }
    },
    {
      "cell_type": "code",
      "source": [
        "# split and scale\n",
        "scaler = MinMaxScaler()\n",
        "X_train_hybrid, y_train_hybrid, X_valid_hybrid, y_valid_hybrid, X_test_hybrid, y_test_hybrid = create_train_valid_test(\n",
        "    df_new_hybrid_1, 0.20, 0.10)\n",
        "\n",
        "\n",
        "X_train_hybrid, y_train_hybrid, X_valid_hybrid, y_valid_hybrid, X_test_hybrid, y_test_hybrid = scale_data(\n",
        "    X_train_hybrid, y_train_hybrid, X_valid_hybrid, y_valid_hybrid, X_test_hybrid, y_test_hybrid, scaler)"
      ],
      "metadata": {
        "colab": {
          "base_uri": "https://localhost:8080/"
        },
        "id": "bKm5lYXibVdO",
        "outputId": "43b60a93-b5aa-4668-ca56-19add83f05c8"
      },
      "execution_count": 367,
      "outputs": [
        {
          "output_type": "stream",
          "name": "stdout",
          "text": [
            "Shape of training inputs, training target: (6, 6) (6,)\n",
            "Shape of validation inputs, validation target: (1, 6) (1,)\n",
            "Shape of test inputs, test target: (2, 6) (2,)\n"
          ]
        }
      ]
    },
    {
      "cell_type": "code",
      "source": [
        "resid_HMLP, history_hybrid = forecast_HMLP_residuals(\n",
        "    input_dim_hybrid_1, X_train_hybrid, y_train_hybrid, X_valid_hybrid, y_valid_hybrid, X_test_hybrid)\n",
        "\n",
        "resid_HMLP = scaler.inverse_transform(resid_HMLP)\n",
        "\n",
        "\n",
        "plot_loss(history_hybrid)"
      ],
      "metadata": {
        "colab": {
          "base_uri": "https://localhost:8080/",
          "height": 672
        },
        "id": "WvZH1RdMbhMC",
        "outputId": "0cd16745-c7c3-472d-a43c-aa09f70e44b7"
      },
      "execution_count": 368,
      "outputs": [
        {
          "output_type": "stream",
          "name": "stdout",
          "text": [
            "Model: \"sequential_17\"\n",
            "_________________________________________________________________\n",
            " Layer (type)                Output Shape              Param #   \n",
            "=================================================================\n",
            " dense_51 (Dense)            (None, 6)                 42        \n",
            "                                                                 \n",
            " dense_52 (Dense)            (None, 3)                 21        \n",
            "                                                                 \n",
            " dropout_21 (Dropout)        (None, 3)                 0         \n",
            "                                                                 \n",
            " dense_53 (Dense)            (None, 1)                 4         \n",
            "                                                                 \n",
            "=================================================================\n",
            "Total params: 67\n",
            "Trainable params: 67\n",
            "Non-trainable params: 0\n",
            "_________________________________________________________________\n"
          ]
        },
        {
          "output_type": "display_data",
          "data": {
            "text/plain": [
              "<Figure size 792x432 with 1 Axes>"
            ],
            "image/png": "[encoded data removed]"
          },
          "metadata": {}
        }
      ]
    },
    {
      "cell_type": "code",
      "source": [
        "resid_HMLP"
      ],
      "metadata": {
        "colab": {
          "base_uri": "https://localhost:8080/"
        },
        "id": "VhdeDXUIta5Q",
        "outputId": "0a6c2c64-a2e6-48fa-9be2-1745e185d2e9"
      },
      "execution_count": 314,
      "outputs": [
        {
          "output_type": "execute_result",
          "data": {
            "text/plain": [
              "array([[-36.157776],\n",
              "       [-21.256792]], dtype=float32)"
            ]
          },
          "metadata": {},
          "execution_count": 314
        }
      ]
    },
    {
      "cell_type": "code",
      "source": [
        "Zresid_HMLP = zero_centre(resid_HMLP)\n",
        "\n",
        "plt.plot(Zresid_HMLP)\n",
        "plt.show()"
      ],
      "metadata": {
        "colab": {
          "base_uri": "https://localhost:8080/",
          "height": 268
        },
        "id": "zZqJe3K7cAQz",
        "outputId": "0c3ad055-5ba3-4bcc-c313-fe49cced914e"
      },
      "execution_count": 262,
      "outputs": [
        {
          "output_type": "display_data",
          "data": {
            "text/plain": [
              "<Figure size 432x288 with 1 Axes>"
            ],
            "image/png": "[encoded data removed]"
          },
          "metadata": {}
        }
      ]
    },
    {
      "cell_type": "markdown",
      "source": [
        "### Hybrid"
      ],
      "metadata": {
        "id": "P06w7krStTz2"
      }
    },
    {
      "cell_type": "code",
      "source": [
        "Zresid_HMLP"
      ],
      "metadata": {
        "colab": {
          "base_uri": "https://localhost:8080/"
        },
        "id": "g6nrYLUuuYoy",
        "outputId": "5b89cef9-91f3-43fa-a4ca-be88bde106b4"
      },
      "execution_count": 263,
      "outputs": [
        {
          "output_type": "execute_result",
          "data": {
            "text/plain": [
              "[array([0.], dtype=float32),\n",
              " array([19.49281], dtype=float32),\n",
              " array([-5.7753525], dtype=float32)]"
            ]
          },
          "metadata": {},
          "execution_count": 263
        }
      ]
    },
    {
      "cell_type": "code",
      "source": [
        "#List comprehension to combine ARIMA and HMLP forecast.\n",
        "pred_hybrid = [a+b for a,b in zip(fscast3['mean'], resid_HMLP)]"
      ],
      "metadata": {
        "id": "Xhq-Q9jcfSNl"
      },
      "execution_count": 369,
      "outputs": []
    },
    {
      "cell_type": "code",
      "source": [
        "fscast3['mean']"
      ],
      "metadata": {
        "colab": {
          "base_uri": "https://localhost:8080/"
        },
        "id": "ASaPEsrUzV9R",
        "outputId": "8e558bda-2019-4dbe-9045-b6d689cf6a11"
      },
      "execution_count": 362,
      "outputs": [
        {
          "output_type": "execute_result",
          "data": {
            "text/plain": [
              "2021-01-01    626.254016\n",
              "2021-02-01    558.414510\n",
              "2021-03-01    578.774932\n",
              "2021-04-01    539.527152\n",
              "2021-05-01    677.859530\n",
              "2021-06-01    730.463971\n",
              "2021-07-01    793.057492\n",
              "2021-08-01    716.544846\n",
              "2021-09-01    743.181142\n",
              "2021-10-01    776.712440\n",
              "2021-11-01    713.337855\n",
              "2021-12-01    823.949232\n",
              "2022-01-01    730.624363\n",
              "2022-02-01    606.600584\n",
              "2022-03-01    630.927930\n",
              "Freq: MS, Name: mean, dtype: float64"
            ]
          },
          "metadata": {},
          "execution_count": 362
        }
      ]
    },
    {
      "cell_type": "code",
      "source": [
        "pred_hybrid\n"
      ],
      "metadata": {
        "colab": {
          "base_uri": "https://localhost:8080/"
        },
        "id": "cAVxegCcwAId",
        "outputId": "15120ce2-9e4d-4f23-be02-77d9d9babda9"
      },
      "execution_count": 361,
      "outputs": [
        {
          "output_type": "execute_result",
          "data": {
            "text/plain": [
              "[array([499.8628], dtype=float32),\n",
              " array([541.3191], dtype=float32),\n",
              " array([443.36008], dtype=float32)]"
            ]
          },
          "metadata": {},
          "execution_count": 361
        }
      ]
    },
    {
      "cell_type": "code",
      "source": [
        "test_d_h, pred_hybrid = equal_size(test_data['Delivery'], pred_hybrid)\n",
        "\n",
        "y_actual_h,y_hat_h = comparison_graph(test_d_h, pred_hybrid)\n",
        "\n",
        "print(\"Error measures for Hybrid:\")\n",
        "calculate_error_measures(test_d_h, pred_hybrid)"
      ],
      "metadata": {
        "colab": {
          "base_uri": "https://localhost:8080/"
        },
        "id": "a0B4HjqWfXb_",
        "outputId": "c4505d2e-c91a-4fb0-c26f-1e8d3395fa2d"
      },
      "execution_count": 370,
      "outputs": [
        {
          "output_type": "stream",
          "name": "stdout",
          "text": [
            "Error measures for Hybrid:\n",
            "Mean Squared Error(MSE):  3541.554062963739\n",
            "Mean Absolute Error(MAE):  58.61433755972331\n",
            "Root Mean Squared Error(RMSE): 59.51095750333496\n",
            " Mean absolute percentage Error(MAPE): 0.0980415958195733\n"
          ]
        },
        {
          "output_type": "execute_result",
          "data": {
            "text/plain": [
              "[3541.554062963739, 58.61433755972331, 59.51095750333496, 0.0980415958195733]"
            ]
          },
          "metadata": {},
          "execution_count": 370
        }
      ]
    },
    {
      "cell_type": "code",
      "source": [
        "test_d_h"
      ],
      "metadata": {
        "colab": {
          "base_uri": "https://localhost:8080/"
        },
        "id": "XTz3B8I88BH8",
        "outputId": "58ed7b1d-3bd5-412c-e7d7-c6cf0736e635"
      },
      "execution_count": 344,
      "outputs": [
        {
          "output_type": "execute_result",
          "data": {
            "text/plain": [
              "Month\n",
              "2021-01-01    576.841947\n",
              "Name: Delivery, dtype: float64"
            ]
          },
          "metadata": {},
          "execution_count": 344
        }
      ]
    },
    {
      "cell_type": "code",
      "source": [
        "print(y_actual_h)"
      ],
      "metadata": {
        "colab": {
          "base_uri": "https://localhost:8080/"
        },
        "id": "PYAOcMWy8VwV",
        "outputId": "f8efaa50-9cd9-40d7-bbd5-6fc07c523594"
      },
      "execution_count": 345,
      "outputs": [
        {
          "output_type": "stream",
          "name": "stdout",
          "text": [
            "Empty DataFrame\n",
            "Columns: [Actual Delivery]\n",
            "Index: []\n"
          ]
        }
      ]
    },
    {
      "cell_type": "code",
      "source": [
        "plt.figure(figsize=(11, 6))\n",
        "plt.plot(y_actuald_h.values, color='r')\n",
        "plt.plot(pred_hybrid , color='g')\n",
        "    \n",
        "plt.legend(['Actual','Predicted'], loc='best', prop={'size': 14})\n",
        "plt.title('32\" TV delivery', weight='bold', fontsize=16)\n",
        "plt.ylabel('Pcs', weight='bold', fontsize=14)\n",
        "plt.xlabel('Test Set Month no.', weight='bold', fontsize=14)\n",
        "plt.xticks(weight='bold', fontsize=12, rotation=45)\n",
        "plt.yticks(weight='bold', fontsize=12)\n",
        "plt.grid(True)\n",
        "    \n",
        "plt.savefig(\"Hybrid_f1.png\")\n",
        "plt.savefig(f\"{images_dir}/Hybrid_f1.png\")   \n",
        "plt.show()"
      ],
      "metadata": {
        "id": "t3TWR5dQfkix",
        "colab": {
          "base_uri": "https://localhost:8080/",
          "height": 440
        },
        "outputId": "68b47c28-10a8-4d77-f95e-4c2e6b828ba3"
      },
      "execution_count": 343,
      "outputs": [
        {
          "output_type": "display_data",
          "data": {
            "text/plain": [
              "<Figure size 792x432 with 1 Axes>"
            ],
            "image/png": "[encoded data removed]"
          },
          "metadata": {}
        }
      ]
    },
    {
      "cell_type": "code",
      "source": [
        ""
      ],
      "metadata": {
        "id": "54kP7kVyy05t"
      },
      "execution_count": null,
      "outputs": []
    }
  ]
}